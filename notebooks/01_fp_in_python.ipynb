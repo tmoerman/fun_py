{
 "cells": [
  {
   "cell_type": "markdown",
   "metadata": {},
   "source": [
    "### I0u19a - Data Processing - KU Leuven\n",
    "###### _Thomas Moerman, Jan Aerts_\n",
    "![license](https://licensebuttons.net/l/by/3.0/88x31.png)\n",
    "\n",
    "# **Functional Programming in Python**\n",
    "\n",
    "Hello and welcome to the tutorial on data processing using functional programming (FP) concepts!\n",
    "\n",
    "We'll be using [Jupyter](http://jupyter.org/) (you're looking at it) as a tool to walk you through a few examples. At the VDA-LAB, we like notebooks as a teaching tool because they allow you to experiment with code and data as you work your way through the document.\n",
    "\n",
    "A few guidelines on the notebook itself:\n",
    "* A notebook consists of *cells*, which are snippets of either text (markdown) or code (Python in this case).\n",
    "* Cells can be executed by clicking the `[>]` \"play\" button, or by hitting shift-enter on the keyboard.\n",
    "* You can navigate between cells either by clicking or by using the arrow buttons.\n",
    "\n",
    "### **Objectives**\n",
    "\n",
    "Many parallel or distributed data processing libraries or frameworks adopt concepts from FP. This notebook provides examples and exercises to familiarize students with functional programming (FP) concepts. We will be using two libraries to illustrate the concepts: [Toolz](http://toolz.readthedocs.io/en/latest/) and [Dask](https://dask.pydata.org/en/latest/). \n",
    "\n",
    "> **Careful!** The examples here are intended as didactic material to teach FP concepts, they are not necessarily idiomatic Python nor the best approach for every use case.\n",
    "\n",
    "### **Contents**\n",
    "\n",
    "\n",
    "\n",
    "---"
   ]
  },
  {
   "cell_type": "markdown",
   "metadata": {},
   "source": [
    "* import the necessary Python libraries"
   ]
  },
  {
   "cell_type": "code",
   "execution_count": 146,
   "metadata": {},
   "outputs": [],
   "source": [
    "import json\n",
    "import toolz as tz\n",
    "import dask.bag as db"
   ]
  },
  {
   "cell_type": "markdown",
   "metadata": {},
   "source": [
    "---\n",
    "\n",
    "## **1. FP basics**\n",
    "\n",
    "When programming in a functional style, functions are the main abstraction for composing programs. When used with skill, they represent a **vocabulary** in which computational ideas can be elegantly expressed.\n",
    "\n",
    "* functions transform data\n",
    "* functions are reusable\n",
    "* functions are composable\n",
    "\n",
    "### 1.1 Functions as arguments\n",
    "* like objects, functions can be passed to other functions as arguments"
   ]
  },
  {
   "cell_type": "code",
   "execution_count": 200,
   "metadata": {},
   "outputs": [],
   "source": [
    "def do_twice(my_function, arg):\n",
    "    \"\"\"\n",
    "    Applies my_function twice to arg and returns the result.\n",
    "    \"\"\"\n",
    "    \n",
    "    once  = my_function(arg)\n",
    "    twice = my_function(once)\n",
    "    \n",
    "    return twice"
   ]
  },
  {
   "cell_type": "markdown",
   "metadata": {},
   "source": [
    "* we pass the function __`inc`__ as the first argument to __`do_twice`__"
   ]
  },
  {
   "cell_type": "code",
   "execution_count": 194,
   "metadata": {},
   "outputs": [
    {
     "data": {
      "text/plain": [
       "7"
      ]
     },
     "execution_count": 194,
     "metadata": {},
     "output_type": "execute_result"
    }
   ],
   "source": [
    "do_twice(inc, 5)"
   ]
  },
  {
   "cell_type": "markdown",
   "metadata": {},
   "source": [
    "* we can define a function _inline_ using a **`lambda`** expression"
   ]
  },
  {
   "cell_type": "code",
   "execution_count": 201,
   "metadata": {},
   "outputs": [
    {
     "data": {
      "text/plain": [
       "7"
      ]
     },
     "execution_count": 201,
     "metadata": {},
     "output_type": "execute_result"
    }
   ],
   "source": [
    "do_twice(lambda x: x + 1, 5)"
   ]
  },
  {
   "cell_type": "markdown",
   "metadata": {},
   "source": [
    "### 1.2 Functions as return values\n",
    "\n",
    "* functions can be returned as the resulting value of another function"
   ]
  },
  {
   "cell_type": "code",
   "execution_count": 213,
   "metadata": {},
   "outputs": [],
   "source": [
    "def do_twice_v2(my_function):    \n",
    "    # function defined within the scope of another function\n",
    "    def inner(x):\n",
    "        return my_function(my_function(x))\n",
    "    \n",
    "    return inner  # return the inner function\n",
    "\n",
    "def do_twice_v3(my_function):    \n",
    "    # same as above, but using a lambda expression\n",
    "    return lambda x: my_function(my_function(x))"
   ]
  },
  {
   "cell_type": "code",
   "execution_count": 204,
   "metadata": {},
   "outputs": [],
   "source": [
    "twice_inc = do_twice_v2(inc)"
   ]
  },
  {
   "cell_type": "code",
   "execution_count": 205,
   "metadata": {},
   "outputs": [
    {
     "data": {
      "text/plain": [
       "function"
      ]
     },
     "execution_count": 205,
     "metadata": {},
     "output_type": "execute_result"
    }
   ],
   "source": [
    "type(twice_inc)"
   ]
  },
  {
   "cell_type": "code",
   "execution_count": 206,
   "metadata": {},
   "outputs": [
    {
     "data": {
      "text/plain": [
       "9"
      ]
     },
     "execution_count": 206,
     "metadata": {},
     "output_type": "execute_result"
    }
   ],
   "source": [
    "twice_inc(7)"
   ]
  },
  {
   "cell_type": "code",
   "execution_count": 226,
   "metadata": {},
   "outputs": [
    {
     "data": {
      "text/plain": [
       "9"
      ]
     },
     "execution_count": 226,
     "metadata": {},
     "output_type": "execute_result"
    }
   ],
   "source": [
    "do_twice_v3(inc)(7)"
   ]
  },
  {
   "cell_type": "markdown",
   "metadata": {},
   "source": [
    "> functions that take or produce functions are called: **higher-order functions**\n",
    "\n",
    "### 1.3 Partial function application\n",
    "\n",
    "* build a new function by filling in a subset of a functions arguments, using __`partial`__\n",
    "* note: order of arguments is important"
   ]
  },
  {
   "cell_type": "code",
   "execution_count": 229,
   "metadata": {},
   "outputs": [],
   "source": [
    "twice_inc = tz.partial(do_twice, inc)"
   ]
  },
  {
   "cell_type": "code",
   "execution_count": 230,
   "metadata": {},
   "outputs": [
    {
     "data": {
      "text/plain": [
       "5"
      ]
     },
     "execution_count": 230,
     "metadata": {},
     "output_type": "execute_result"
    }
   ],
   "source": [
    "twice_inc(3)"
   ]
  },
  {
   "cell_type": "markdown",
   "metadata": {},
   "source": [
    "### 1.4 Curried functions\n",
    "\n",
    "* curry-ing functions automates partial application"
   ]
  },
  {
   "cell_type": "code",
   "execution_count": 217,
   "metadata": {},
   "outputs": [],
   "source": [
    "@tz.curry\n",
    "def do_twice_curried(fn, x):\n",
    "    return fn(fn(x))"
   ]
  },
  {
   "cell_type": "markdown",
   "metadata": {},
   "source": [
    "* still works as expected"
   ]
  },
  {
   "cell_type": "code",
   "execution_count": 221,
   "metadata": {},
   "outputs": [
    {
     "data": {
      "text/plain": [
       "10"
      ]
     },
     "execution_count": 221,
     "metadata": {},
     "output_type": "execute_result"
    }
   ],
   "source": [
    "do_twice_curried(inc, 8)"
   ]
  },
  {
   "cell_type": "markdown",
   "metadata": {},
   "source": [
    "* if not all arguments are provided, a partially applied function is returned"
   ]
  },
  {
   "cell_type": "code",
   "execution_count": 231,
   "metadata": {},
   "outputs": [],
   "source": [
    "twice_inc = do_twice_curried(inc)"
   ]
  },
  {
   "cell_type": "code",
   "execution_count": 232,
   "metadata": {},
   "outputs": [
    {
     "data": {
      "text/plain": [
       "6"
      ]
     },
     "execution_count": 232,
     "metadata": {},
     "output_type": "execute_result"
    }
   ],
   "source": [
    "twice_inc(4)"
   ]
  },
  {
   "cell_type": "markdown",
   "metadata": {},
   "source": [
    "### 1.5 Purity\n",
    "* see https://toolz.readthedocs.io/en/latest/purity.html\n",
    "\n",
    "### 1.6 Laziness\n",
    "\n",
    "* see https://toolz.readthedocs.io/en/latest/laziness.html"
   ]
  },
  {
   "cell_type": "markdown",
   "metadata": {},
   "source": [
    "---\n",
    "\n",
    "## **2. Functions operating on collections**\n",
    "\n",
    "In a data processing context, **functions** and **collections** go hand in hand.\n",
    "\n",
    "* functions to transform collections\n",
    "* functions to aggregate or summarize collections\n",
    "* map, filter, reduce are the workhorses, the most common higher-order functions that operate on collections"
   ]
  },
  {
   "cell_type": "code",
   "execution_count": 271,
   "metadata": {},
   "outputs": [],
   "source": [
    "scientists = [{'first': 'Richard', 'last': 'Feynman',  'gender': 'M'}, \n",
    "              {'first': 'Marie',   'last': 'Curie',    'gender': 'F'},\n",
    "              {'first': 'Paul',    'last': 'Stamets',  'gender': 'M'},\n",
    "              {'first': 'Ada',     'last': 'Lovelace', 'gender': 'F'},\n",
    "              {'first': 'Stephen', 'last': 'Hawking',  'gender': 'M'},\n",
    "              {'first': 'Carolyn', 'last': 'Porco',    'gender': 'F'}]"
   ]
  },
  {
   "cell_type": "markdown",
   "metadata": {},
   "source": [
    "### 2.1 Mapping\n",
    "\n",
    "* we pass length as the to `map` as the function to apply to all entries in the collection \n",
    "* the length of the output is equal to the length of the input\n",
    "\n",
    "Let's check out the function signature:\n",
    "\n",
    "```\n",
    "map(func, *iterables) --> map object\n",
    "```"
   ]
  },
  {
   "cell_type": "code",
   "execution_count": 280,
   "metadata": {},
   "outputs": [
    {
     "data": {
      "text/plain": [
       "\u001b[0;31mInit signature:\u001b[0m \u001b[0mtz\u001b[0m\u001b[0;34m.\u001b[0m\u001b[0mmap\u001b[0m\u001b[0;34m(\u001b[0m\u001b[0mself\u001b[0m\u001b[0;34m,\u001b[0m \u001b[0;34m/\u001b[0m\u001b[0;34m,\u001b[0m \u001b[0;34m*\u001b[0m\u001b[0margs\u001b[0m\u001b[0;34m,\u001b[0m \u001b[0;34m**\u001b[0m\u001b[0mkwargs\u001b[0m\u001b[0;34m)\u001b[0m\u001b[0;34m\u001b[0m\u001b[0m\n",
       "\u001b[0;31mDocstring:\u001b[0m     \n",
       "map(func, *iterables) --> map object\n",
       "\n",
       "Make an iterator that computes the function using arguments from\n",
       "each of the iterables.  Stops when the shortest iterable is exhausted.\n",
       "\u001b[0;31mType:\u001b[0m           type\n"
      ]
     },
     "metadata": {},
     "output_type": "display_data"
    }
   ],
   "source": [
    "tz.map?"
   ]
  },
  {
   "cell_type": "code",
   "execution_count": 272,
   "metadata": {},
   "outputs": [],
   "source": [
    "def name_length(scientist):\n",
    "    return len(scientist['last'])\n",
    "\n",
    "name_lengths = tz.map(name_length, scientists)"
   ]
  },
  {
   "cell_type": "markdown",
   "metadata": {},
   "source": [
    "* mapping is lazy\n",
    "* the result is not immediately computed"
   ]
  },
  {
   "cell_type": "code",
   "execution_count": 273,
   "metadata": {},
   "outputs": [
    {
     "data": {
      "text/plain": [
       "<map at 0x7fcd0069de10>"
      ]
     },
     "execution_count": 273,
     "metadata": {},
     "output_type": "execute_result"
    }
   ],
   "source": [
    "name_lengths"
   ]
  },
  {
   "cell_type": "markdown",
   "metadata": {},
   "source": [
    "* we turn the map into a collection by wrapping it into a list"
   ]
  },
  {
   "cell_type": "code",
   "execution_count": 274,
   "metadata": {},
   "outputs": [
    {
     "data": {
      "text/plain": [
       "[7, 5, 7, 8, 7, 5]"
      ]
     },
     "execution_count": 274,
     "metadata": {},
     "output_type": "execute_result"
    }
   ],
   "source": [
    "list(name_lengths)"
   ]
  },
  {
   "cell_type": "markdown",
   "metadata": {},
   "source": [
    "* let's try with a lambda expression"
   ]
  },
  {
   "cell_type": "code",
   "execution_count": 275,
   "metadata": {},
   "outputs": [],
   "source": [
    "loud_scientists = tz.map(lambda s: s['first'].upper(), scientists)"
   ]
  },
  {
   "cell_type": "code",
   "execution_count": 276,
   "metadata": {},
   "outputs": [
    {
     "name": "stdout",
     "output_type": "stream",
     "text": [
      "RICHARD\n",
      "MARIE\n",
      "PAUL\n",
      "ADA\n",
      "STEPHEN\n",
      "CAROLYN\n"
     ]
    }
   ],
   "source": [
    "for entry in loud_scientists:\n",
    "    print(entry)"
   ]
  },
  {
   "cell_type": "markdown",
   "metadata": {},
   "source": [
    "#### **!! CAUTION !!**\n",
    "* What happens if we iterate over the same lazy collection twice??"
   ]
  },
  {
   "cell_type": "code",
   "execution_count": 277,
   "metadata": {},
   "outputs": [],
   "source": [
    "for entry in loud_scientists:\n",
    "    print(entry)"
   ]
  },
  {
   "cell_type": "markdown",
   "metadata": {},
   "source": [
    "* we can map over multiple collections at once\n",
    "* we need to pass in a function with a different signature"
   ]
  },
  {
   "cell_type": "code",
   "execution_count": 281,
   "metadata": {},
   "outputs": [],
   "source": [
    "sums = tz.map(lambda x, y: x + y, [0, 1, 2, 3], [10, 11, 12, 13])"
   ]
  },
  {
   "cell_type": "code",
   "execution_count": 282,
   "metadata": {},
   "outputs": [
    {
     "data": {
      "text/plain": [
       "[10, 12, 14, 16]"
      ]
     },
     "execution_count": 282,
     "metadata": {},
     "output_type": "execute_result"
    }
   ],
   "source": [
    "list(sums)"
   ]
  },
  {
   "cell_type": "markdown",
   "metadata": {},
   "source": [
    "### 2.2 Filtering\n",
    "\n",
    "* we pass a **predicate**, i.e. a function that takes an entry and returns a Boolean value"
   ]
  },
  {
   "cell_type": "code",
   "execution_count": 279,
   "metadata": {},
   "outputs": [
    {
     "data": {
      "text/plain": [
       "[{'first': 'Marie', 'gender': 'F', 'last': 'Curie'},\n",
       " {'first': 'Ada', 'gender': 'F', 'last': 'Lovelace'},\n",
       " {'first': 'Carolyn', 'gender': 'F', 'last': 'Porco'}]"
      ]
     },
     "execution_count": 279,
     "metadata": {},
     "output_type": "execute_result"
    }
   ],
   "source": [
    "ladies_only = tz.filter(lambda s: s['gender'] == 'F', scientists)\n",
    "\n",
    "list(ladies_only)"
   ]
  },
  {
   "cell_type": "markdown",
   "metadata": {},
   "source": [
    "### 2.3 Reducing\n",
    "\n",
    "* a **reduction** collapses the collection\n",
    "\n",
    "Let's check the function signature:\n",
    "\n",
    "```\n",
    "reduce(function, sequence[, initial]) -> value\n",
    "```\n",
    "\n",
    "* the result is a single value\n",
    "* function a.k.a. `seqop`\n",
    "* optional argument: `initial`"
   ]
  },
  {
   "cell_type": "code",
   "execution_count": 283,
   "metadata": {},
   "outputs": [
    {
     "data": {
      "text/plain": [
       "\u001b[0;31mDocstring:\u001b[0m\n",
       "reduce(function, sequence[, initial]) -> value\n",
       "\n",
       "Apply a function of two arguments cumulatively to the items of a sequence,\n",
       "from left to right, so as to reduce the sequence to a single value.\n",
       "For example, reduce(lambda x, y: x+y, [1, 2, 3, 4, 5]) calculates\n",
       "((((1+2)+3)+4)+5).  If initial is present, it is placed before the items\n",
       "of the sequence in the calculation, and serves as a default when the\n",
       "sequence is empty.\n",
       "\u001b[0;31mType:\u001b[0m      builtin_function_or_method\n"
      ]
     },
     "metadata": {},
     "output_type": "display_data"
    }
   ],
   "source": [
    "tz.reduce?"
   ]
  },
  {
   "cell_type": "code",
   "execution_count": 310,
   "metadata": {},
   "outputs": [
    {
     "data": {
      "text/plain": [
       "10"
      ]
     },
     "execution_count": 310,
     "metadata": {},
     "output_type": "execute_result"
    }
   ],
   "source": [
    "sum_numbers = tz.reduce(lambda x, y: x + y, range(1, 5))\n",
    "\n",
    "sum_numbers"
   ]
  },
  {
   "cell_type": "markdown",
   "metadata": {},
   "source": [
    "* or written more elegantly"
   ]
  },
  {
   "cell_type": "code",
   "execution_count": 311,
   "metadata": {},
   "outputs": [
    {
     "data": {
      "text/plain": [
       "10"
      ]
     },
     "execution_count": 311,
     "metadata": {},
     "output_type": "execute_result"
    }
   ],
   "source": [
    "from operator import add\n",
    "\n",
    "tz.reduce(add, range(1, 5))"
   ]
  },
  {
   "cell_type": "markdown",
   "metadata": {},
   "source": [
    "* the accumulator (int) and entry (dict) have different signatures\n",
    "* we need to provide an initial value for the accumulator"
   ]
  },
  {
   "cell_type": "code",
   "execution_count": 292,
   "metadata": {},
   "outputs": [
    {
     "data": {
      "text/plain": [
       "33"
      ]
     },
     "execution_count": 292,
     "metadata": {},
     "output_type": "execute_result"
    }
   ],
   "source": [
    "sum_first_name_lengths = tz.reduce(lambda acc, s: acc + len(s['first']), scientists, 0)\n",
    "\n",
    "sum_first_name_lengths"
   ]
  },
  {
   "cell_type": "markdown",
   "metadata": {},
   "source": [
    "#### **Advanced example**\n",
    "\n",
    "* we can implement filter with reduce"
   ]
  },
  {
   "cell_type": "code",
   "execution_count": 307,
   "metadata": {},
   "outputs": [
    {
     "data": {
      "text/plain": [
       "[{'first': 'Marie', 'gender': 'F', 'last': 'Curie'},\n",
       " {'first': 'Ada', 'gender': 'F', 'last': 'Lovelace'},\n",
       " {'first': 'Carolyn', 'gender': 'F', 'last': 'Porco'}]"
      ]
     },
     "execution_count": 307,
     "metadata": {},
     "output_type": "execute_result"
    }
   ],
   "source": [
    "def filter_by_reducing(predicate, sequence):\n",
    "    def maybe_append(acc, e):\n",
    "        if predicate(e):\n",
    "            acc.append(e)  # only append if the predicate evaluates positively\n",
    "            \n",
    "        return acc\n",
    "    \n",
    "    return tz.reduce(maybe_append, sequence, [])\n",
    "\n",
    "filter_by_reducing(lambda s: s['gender'] == 'F', scientists)"
   ]
  },
  {
   "cell_type": "markdown",
   "metadata": {},
   "source": [
    "### 2.4 Aggregating"
   ]
  },
  {
   "cell_type": "code",
   "execution_count": null,
   "metadata": {},
   "outputs": [],
   "source": []
  },
  {
   "cell_type": "code",
   "execution_count": 185,
   "metadata": {},
   "outputs": [],
   "source": [
    "book = open('../data/dickens.txt')"
   ]
  },
  {
   "cell_type": "code",
   "execution_count": 186,
   "metadata": {},
   "outputs": [],
   "source": [
    "loud_book = map(str.upper, book)"
   ]
  },
  {
   "cell_type": "markdown",
   "metadata": {},
   "source": [
    "## **1. Itertoolz**\n",
    "\n",
    "Operations on iterables."
   ]
  },
  {
   "cell_type": "markdown",
   "metadata": {},
   "source": [
    "### **1.1 Mapping**"
   ]
  },
  {
   "cell_type": "code",
   "execution_count": 147,
   "metadata": {},
   "outputs": [
    {
     "data": {
      "text/plain": [
       "\u001b[0;31mSignature:\u001b[0m \u001b[0mtz\u001b[0m\u001b[0;34m.\u001b[0m\u001b[0mconcat\u001b[0m\u001b[0;34m(\u001b[0m\u001b[0mseqs\u001b[0m\u001b[0;34m)\u001b[0m\u001b[0;34m\u001b[0m\u001b[0m\n",
       "\u001b[0;31mDocstring:\u001b[0m\n",
       "Concatenate zero or more iterables, any of which may be infinite.\n",
       "\n",
       "An infinite sequence will prevent the rest of the arguments from\n",
       "being included.\n",
       "\n",
       "We use chain.from_iterable rather than ``chain(*seqs)`` so that seqs\n",
       "can be a generator.\n",
       "\n",
       ">>> list(concat([[], [1], [2, 3]]))\n",
       "[1, 2, 3]\n",
       "\n",
       "See also:\n",
       "    itertools.chain.from_iterable  equivalent\n",
       "\u001b[0;31mFile:\u001b[0m      ~/work/batiskav/installs/anaconda3/lib/python3.5/site-packages/toolz/itertoolz.py\n",
       "\u001b[0;31mType:\u001b[0m      function\n"
      ]
     },
     "metadata": {},
     "output_type": "display_data"
    }
   ],
   "source": [
    "tz.concat?"
   ]
  },
  {
   "cell_type": "code",
   "execution_count": 6,
   "metadata": {},
   "outputs": [
    {
     "data": {
      "text/plain": [
       "\u001b[0;31mInit signature:\u001b[0m \u001b[0mtz\u001b[0m\u001b[0;34m.\u001b[0m\u001b[0mmap\u001b[0m\u001b[0;34m(\u001b[0m\u001b[0mself\u001b[0m\u001b[0;34m,\u001b[0m \u001b[0;34m/\u001b[0m\u001b[0;34m,\u001b[0m \u001b[0;34m*\u001b[0m\u001b[0margs\u001b[0m\u001b[0;34m,\u001b[0m \u001b[0;34m**\u001b[0m\u001b[0mkwargs\u001b[0m\u001b[0;34m)\u001b[0m\u001b[0;34m\u001b[0m\u001b[0m\n",
       "\u001b[0;31mDocstring:\u001b[0m     \n",
       "map(func, *iterables) --> map object\n",
       "\n",
       "Make an iterator that computes the function using arguments from\n",
       "each of the iterables.  Stops when the shortest iterable is exhausted.\n",
       "\u001b[0;31mType:\u001b[0m           type\n"
      ]
     },
     "metadata": {},
     "output_type": "display_data"
    }
   ],
   "source": [
    "tz.map?"
   ]
  },
  {
   "cell_type": "code",
   "execution_count": null,
   "metadata": {},
   "outputs": [],
   "source": []
  },
  {
   "cell_type": "code",
   "execution_count": 15,
   "metadata": {},
   "outputs": [],
   "source": [
    "mapped = map(lambda x, y: x + y, [0, 1, 2], [4, 5, 6])"
   ]
  },
  {
   "cell_type": "code",
   "execution_count": 16,
   "metadata": {},
   "outputs": [
    {
     "data": {
      "text/plain": [
       "[4, 6, 8]"
      ]
     },
     "execution_count": 16,
     "metadata": {},
     "output_type": "execute_result"
    }
   ],
   "source": [
    "list(mapped)"
   ]
  },
  {
   "cell_type": "markdown",
   "metadata": {},
   "source": [
    "## 2. Dask Bag\n",
    "\n",
    "TODO Dask intro\n",
    "\n",
    "* unordered \n",
    "* repeats allowed"
   ]
  },
  {
   "cell_type": "code",
   "execution_count": 19,
   "metadata": {},
   "outputs": [],
   "source": [
    "b = db.from_sequence(range(0, 100))"
   ]
  },
  {
   "cell_type": "code",
   "execution_count": 23,
   "metadata": {},
   "outputs": [],
   "source": [
    "sum_by_even = b.foldby(key=lambda x: x % 2 == 0, \n",
    "                       binop=lambda x,y: x+y)"
   ]
  },
  {
   "cell_type": "code",
   "execution_count": 24,
   "metadata": {},
   "outputs": [
    {
     "data": {
      "text/plain": [
       "[(False, 2500), (True, 2450)]"
      ]
     },
     "execution_count": 24,
     "metadata": {},
     "output_type": "execute_result"
    }
   ],
   "source": [
    "list(sum_by_even)"
   ]
  },
  {
   "cell_type": "code",
   "execution_count": 360,
   "metadata": {},
   "outputs": [],
   "source": [
    "m = {'bla': 5, 'test': 3}"
   ]
  },
  {
   "cell_type": "code",
   "execution_count": 362,
   "metadata": {},
   "outputs": [
    {
     "data": {
      "text/plain": [
       "{'bla', 'test'}"
      ]
     },
     "execution_count": 362,
     "metadata": {},
     "output_type": "execute_result"
    }
   ],
   "source": [
    "set(m.keys())"
   ]
  },
  {
   "cell_type": "markdown",
   "metadata": {},
   "source": [
    "## 3. Dos cervezas, por favor!\n",
    "\n",
    "* following exercises use a dataset parsed from a `json` file\n",
    "* we'll be using a **Dask bag** to compute some answers"
   ]
  },
  {
   "cell_type": "code",
   "execution_count": 382,
   "metadata": {},
   "outputs": [],
   "source": [
    "def is_valid(raw_dict):\n",
    "    return raw_dict['Percentagealcohol'] != 'NA'\n",
    "\n",
    "def parse_beer(raw_dict):        \n",
    "    return {'brewery': raw_dict['Brouwerij'],\n",
    "            'brand': raw_dict['Merk'],\n",
    "            'type': raw_dict['Soort'],\n",
    "            'alcohol_pct': float(raw_dict['Percentagealcohol'])}\n",
    "\n",
    "beers_raw = db.from_sequence(json.load(open('../data/beers.json')))"
   ]
  },
  {
   "cell_type": "markdown",
   "metadata": {},
   "source": [
    "* count the number of invalid beer entries (these have a missing value for 'NA')"
   ]
  },
  {
   "cell_type": "code",
   "execution_count": 383,
   "metadata": {},
   "outputs": [
    {
     "data": {
      "text/plain": [
       "12"
      ]
     },
     "execution_count": 383,
     "metadata": {},
     "output_type": "execute_result"
    }
   ],
   "source": [
    "beers_raw.filter(predicate=lambda x: not is_valid(x)).count().compute()"
   ]
  },
  {
   "cell_type": "markdown",
   "metadata": {},
   "source": [
    "* let's now get rid of invalid entries and parse them into a more convenient representation"
   ]
  },
  {
   "cell_type": "code",
   "execution_count": 384,
   "metadata": {},
   "outputs": [],
   "source": [
    "beers = beers_raw.filter(is_valid).map(parse_beer).persist()"
   ]
  },
  {
   "cell_type": "markdown",
   "metadata": {},
   "source": [
    "* quiz: why have we used the `persist` function above?"
   ]
  },
  {
   "cell_type": "code",
   "execution_count": 386,
   "metadata": {},
   "outputs": [
    {
     "data": {
      "text/plain": [
       "({'alcohol_pct': 6.0,\n",
       "  'brand': '3 Schténg',\n",
       "  'brewery': \"Brasserie Grain d'Orge\",\n",
       "  'type': 'hoge gisting'},\n",
       " {'alcohol_pct': 5.6,\n",
       "  'brand': '400',\n",
       "  'brewery': \"'t Hofbrouwerijke voor Brouwerij Montaigu\",\n",
       "  'type': 'blond'})"
      ]
     },
     "execution_count": 386,
     "metadata": {},
     "output_type": "execute_result"
    }
   ],
   "source": [
    "beers.take(2)"
   ]
  },
  {
   "cell_type": "markdown",
   "metadata": {},
   "source": [
    "---\n",
    "\n",
    "#### Exercise 1: **find the number of breweries**\n",
    "\n",
    "* hint: to get unique results, use `distinct`"
   ]
  },
  {
   "cell_type": "code",
   "execution_count": 387,
   "metadata": {},
   "outputs": [
    {
     "data": {
      "text/plain": [
       "360"
      ]
     },
     "execution_count": 387,
     "metadata": {},
     "output_type": "execute_result"
    }
   ],
   "source": [
    "breweries = beers.map(lambda b: b['brewery']).distinct().count().compute()"
   ]
  },
  {
   "cell_type": "markdown",
   "metadata": {},
   "source": [
    "#### Exercise 2: **find the strongest beer**\n",
    "* hint: the dask bag function for reducting is called: `fold`"
   ]
  },
  {
   "cell_type": "code",
   "execution_count": 395,
   "metadata": {},
   "outputs": [
    {
     "data": {
      "text/plain": [
       "{'alcohol_pct': 26.0,\n",
       " 'brand': 'Black Damnation V (Double Black)',\n",
       " 'brewery': 'De Struise Brouwers bij Brouwerij Deca',\n",
       " 'type': 'Russian Imperial Stout, Eisbockmethode'}"
      ]
     },
     "execution_count": 395,
     "metadata": {},
     "output_type": "execute_result"
    }
   ],
   "source": [
    "beers.fold(lambda b1, b2: b1 if b1['alcohol_pct'] > b2['alcohol_pct'] else b2).compute()"
   ]
  },
  {
   "cell_type": "markdown",
   "metadata": {},
   "source": [
    "#### Exercise 3: **find the 3 most common alcohol percentages**\n",
    "\n",
    "* ordering is a very inefficient operation if we are only interested in the top 3\n",
    "* hint: use the `topk` function"
   ]
  },
  {
   "cell_type": "code",
   "execution_count": 399,
   "metadata": {},
   "outputs": [
    {
     "data": {
      "text/plain": [
       "[(8.0, 180), (6.5, 150), (5.0, 131)]"
      ]
     },
     "execution_count": 399,
     "metadata": {},
     "output_type": "execute_result"
    }
   ],
   "source": [
    "beers.map(lambda x: x['alcohol_pct']).frequencies().topk(3, lambda x, y: y).compute()"
   ]
  },
  {
   "cell_type": "markdown",
   "metadata": {},
   "source": [
    "#### Exercise 4: **find the brewery that makes the strongest beer on average**\n",
    "\n",
    "* a nice trick to avoid naming collisions is to wrap functions in an outer function\n",
    "* aggregations by key are done with `foldby`\n",
    "* remember why you need `binop` and `combine` functions!"
   ]
  },
  {
   "cell_type": "code",
   "execution_count": 413,
   "metadata": {},
   "outputs": [],
   "source": [
    "def bad_ass_brewery(beers):\n",
    "    \n",
    "    def binop(sum_count, beer):\n",
    "        sum_, count_ = sum_count # unpack tuple\n",
    "        return (sum_ + beer['alcohol_pct'], count_ + 1)\n",
    "    \n",
    "    def combine(sum_count_1, sum_count_2):\n",
    "        sum_1, count_1 = sum_count_1\n",
    "        sum_2, count_2 = sum_count_2\n",
    "        return (sum_1 + sum_2, count_1 + count_2)\n",
    "    \n",
    "    def top_avg_alcohol_pct(brewery_sum_count):\n",
    "        brewery, (sum_, count_) = brewery_sum_count\n",
    "        return sum_ / count_                 \n",
    "    \n",
    "    return beers.foldby('brewery', binop=binop, initial=(0,0), combine=combine).topk(1, key=top_avg_alcohol_pct)"
   ]
  },
  {
   "cell_type": "code",
   "execution_count": 412,
   "metadata": {},
   "outputs": [
    {
     "data": {
      "text/plain": [
       "[('Staminee De Garre (Brouwerij Van Steenberge)', (11.5, 1))]"
      ]
     },
     "execution_count": 412,
     "metadata": {},
     "output_type": "execute_result"
    }
   ],
   "source": [
    "bad_ass_brewery(beers).compute()"
   ]
  },
  {
   "cell_type": "markdown",
   "metadata": {},
   "source": [
    "#### Exercise 5: **find the top 3 breweries with the most diverse range of beer types**\n",
    "\n",
    "* think of which initial value to provide to the binop\n",
    "* your result should also provide the beer types per brewery"
   ]
  },
  {
   "cell_type": "code",
   "execution_count": 418,
   "metadata": {},
   "outputs": [],
   "source": [
    "s = {8}"
   ]
  },
  {
   "cell_type": "code",
   "execution_count": 419,
   "metadata": {},
   "outputs": [
    {
     "name": "stdout",
     "output_type": "stream",
     "text": [
      "bla\n"
     ]
    }
   ],
   "source": [
    "if s:\n",
    "    print('bla')"
   ]
  },
  {
   "cell_type": "code",
   "execution_count": 447,
   "metadata": {},
   "outputs": [],
   "source": [
    "def diverse_breweries(beers, top=3):\n",
    "    \n",
    "    def binop(set_of_types, beer):\n",
    "        if set_of_types:\n",
    "            result = set_of_types\n",
    "        else:\n",
    "            result = set()\n",
    "            \n",
    "        result.add(beer['type'])\n",
    "        return result\n",
    "    \n",
    "    def combine(set_1, set_2):\n",
    "        return set.union(set_1, set_2)\n",
    "    \n",
    "    def count_types(brewery_set_of_types):\n",
    "        brewery, set_of_types = brewery_set_of_types\n",
    "        return len(set_of_types)\n",
    "    \n",
    "    return beers.foldby('brewery', binop=binop, initial=None, combine=combine).topk(top, key=count_types)"
   ]
  },
  {
   "cell_type": "code",
   "execution_count": 448,
   "metadata": {},
   "outputs": [
    {
     "data": {
      "text/plain": [
       "[('Brouwerij Huyghe',\n",
       "  {'Erkend Belgisch Abdijbier',\n",
       "   'Erkend Belgisch Abdijbier, tripel',\n",
       "   'Speciale Belge',\n",
       "   'abdijbier',\n",
       "   'abdijbier, tripel',\n",
       "   'blond',\n",
       "   'bruin',\n",
       "   'donker, hoge gisting',\n",
       "   'fruitbier',\n",
       "   'glutenvrij pilsener',\n",
       "   'hoge gisting',\n",
       "   'honingbier',\n",
       "   'kerstbier',\n",
       "   'pils',\n",
       "   'pils, biologisch',\n",
       "   'roodbruin',\n",
       "   'sterk blond',\n",
       "   'sterk donker',\n",
       "   'tripel',\n",
       "   'witbier'})]"
      ]
     },
     "execution_count": 448,
     "metadata": {},
     "output_type": "execute_result"
    }
   ],
   "source": [
    "diverse_breweries(beers, top=1).compute()"
   ]
  },
  {
   "cell_type": "code",
   "execution_count": null,
   "metadata": {},
   "outputs": [],
   "source": []
  },
  {
   "cell_type": "code",
   "execution_count": null,
   "metadata": {},
   "outputs": [],
   "source": []
  }
 ],
 "metadata": {
  "kernelspec": {
   "display_name": "Python [default]",
   "language": "python",
   "name": "python3"
  },
  "language_info": {
   "codemirror_mode": {
    "name": "ipython",
    "version": 3
   },
   "file_extension": ".py",
   "mimetype": "text/x-python",
   "name": "python",
   "nbconvert_exporter": "python",
   "pygments_lexer": "ipython3",
   "version": "3.5.5"
  }
 },
 "nbformat": 4,
 "nbformat_minor": 2
}
