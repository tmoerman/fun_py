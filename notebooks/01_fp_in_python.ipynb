{
 "cells": [
  {
   "cell_type": "markdown",
   "metadata": {},
   "source": [
    "### I0u19a - Data Processing - KU Leuven\n",
    "![license](https://licensebuttons.net/l/by/3.0/88x31.png)\n",
    "\n",
    "# **Data processing in Python - the functional approach**\n",
    "\n",
    "Hello and welcome to the tutorial on data processing using functional programming (FP) tools!\n",
    "\n",
    "We'll be using [Jupyter](http://jupyter.org/) (you're looking at it) as a tool to walk you through a few examples. Notebooks are an excellent teaching tool as they allow you to experiment with code and data as you work your way through the document.\n",
    "\n",
    "A few guidelines on the notebook itself:\n",
    "* A notebook consists of *cells*, which are snippets of either text (markdown) or code (Python in this case).\n",
    "* Cells can be executed by clicking the `[>]` \"play\" button, or by hitting shift-enter on the keyboard.\n",
    "* You can navigate between cells either by clicking or by using the arrow buttons.\n",
    "\n",
    "### **Objectives**\n",
    "\n",
    "Many parallel or distributed data processing libraries or frameworks adopt concepts from FP. This notebook provides examples and exercises to familiarize students with functional programming (FP) concepts. We will be using two libraries to illustrate the concepts: [Toolz](http://toolz.readthedocs.io/en/latest/) and [Dask](https://dask.pydata.org/en/latest/). \n",
    "\n",
    "> **Careful!** The examples here are intended as didactic material to teach FP concepts, they are not necessarily idiomatic Python nor the best approach for every use case.\n",
    "\n",
    "---"
   ]
  },
  {
   "cell_type": "markdown",
   "metadata": {},
   "source": [
    "* import the necessary Python libraries"
   ]
  },
  {
   "cell_type": "code",
   "execution_count": 2,
   "metadata": {},
   "outputs": [],
   "source": [
    "import json\n",
    "import toolz as tz\n",
    "import dask.bag as db\n",
    "\n",
    "from operator import add"
   ]
  },
  {
   "cell_type": "markdown",
   "metadata": {},
   "source": [
    "---\n",
    "\n",
    "## **1. FP basics**\n",
    "\n",
    "When programming in a functional style, functions are the main abstraction for composing programs. They can be regarded as the **vocabulary** in which to express computational ideas.\n",
    "\n",
    "* functions transform data\n",
    "* functions are reusable\n",
    "* functions are composable\n",
    "* functions can accept functions as parameters\n",
    "* functions can return other functions"
   ]
  },
  {
   "cell_type": "markdown",
   "metadata": {},
   "source": [
    "### **1.0 Function are objects**\n",
    "\n",
    "* functions are (simple) objects\n",
    "    * immutable\n",
    "    * 1 required method to make it Callable:\n",
    "        * Python: \n",
    "        \n",
    "        `__cal__(self, ..)`\n",
    "        \n",
    "        * Scala: \n",
    "        \n",
    "        `apply()`"
   ]
  },
  {
   "cell_type": "code",
   "execution_count": 3,
   "metadata": {},
   "outputs": [],
   "source": [
    "class Adder():\n",
    "    \n",
    "    def __init__(self, how_much=1):\n",
    "        self.n = how_much\n",
    "    \n",
    "    def __call__(self, x):\n",
    "        return self.n + x"
   ]
  },
  {
   "cell_type": "code",
   "execution_count": 4,
   "metadata": {},
   "outputs": [
    {
     "data": {
      "text/plain": [
       "[2, 3, 4]"
      ]
     },
     "execution_count": 4,
     "metadata": {},
     "output_type": "execute_result"
    }
   ],
   "source": [
    "list(map(Adder(), [1, 2, 3]))"
   ]
  },
  {
   "cell_type": "code",
   "execution_count": 5,
   "metadata": {},
   "outputs": [
    {
     "data": {
      "text/plain": [
       "[6, 7, 8]"
      ]
     },
     "execution_count": 5,
     "metadata": {},
     "output_type": "execute_result"
    }
   ],
   "source": [
    "list(map(Adder(5), [1, 2, 3]))"
   ]
  },
  {
   "cell_type": "markdown",
   "metadata": {},
   "source": [
    "### **1.1 Functions as arguments**\n",
    "* like objects, functions can be passed to other functions as arguments"
   ]
  },
  {
   "cell_type": "code",
   "execution_count": 6,
   "metadata": {},
   "outputs": [],
   "source": [
    "def do_twice(my_function, arg):\n",
    "    \"\"\"\n",
    "    Applies my_function twice to arg and returns the result.\n",
    "    \"\"\"\n",
    "    \n",
    "    once  = my_function(arg)\n",
    "    twice = my_function(once)\n",
    "    \n",
    "    return twice"
   ]
  },
  {
   "cell_type": "code",
   "execution_count": 7,
   "metadata": {},
   "outputs": [],
   "source": [
    "def inc(x):\n",
    "    \"\"\"\n",
    "    :param x: integer to increment\n",
    "    :return: incremented integer\n",
    "    \"\"\"\n",
    "    return x + 1"
   ]
  },
  {
   "cell_type": "markdown",
   "metadata": {},
   "source": [
    "* we pass the function __`inc`__ as the first argument to __`do_twice`__"
   ]
  },
  {
   "cell_type": "code",
   "execution_count": 8,
   "metadata": {},
   "outputs": [
    {
     "data": {
      "text/plain": [
       "7"
      ]
     },
     "execution_count": 8,
     "metadata": {},
     "output_type": "execute_result"
    }
   ],
   "source": [
    "do_twice(inc, 5)"
   ]
  },
  {
   "cell_type": "markdown",
   "metadata": {},
   "source": [
    "* we can define a function _inline_ using a **`lambda`** expression"
   ]
  },
  {
   "cell_type": "code",
   "execution_count": 9,
   "metadata": {},
   "outputs": [
    {
     "data": {
      "text/plain": [
       "7"
      ]
     },
     "execution_count": 9,
     "metadata": {},
     "output_type": "execute_result"
    }
   ],
   "source": [
    "do_twice(lambda x: x + 1, 5)"
   ]
  },
  {
   "cell_type": "markdown",
   "metadata": {},
   "source": [
    "* it works with `Callable` objects"
   ]
  },
  {
   "cell_type": "code",
   "execution_count": 10,
   "metadata": {},
   "outputs": [
    {
     "data": {
      "text/plain": [
       "13"
      ]
     },
     "execution_count": 10,
     "metadata": {},
     "output_type": "execute_result"
    }
   ],
   "source": [
    "do_twice(Adder(5), 3)"
   ]
  },
  {
   "cell_type": "markdown",
   "metadata": {},
   "source": [
    "### Exercise 1: **append log messages**\n",
    "* in this exercise, replace the logger that prints to the console with a logger that appends log messages to a collection"
   ]
  },
  {
   "cell_type": "code",
   "execution_count": 11,
   "metadata": {},
   "outputs": [],
   "source": [
    "def log_print(message):\n",
    "    print(message)"
   ]
  },
  {
   "cell_type": "code",
   "execution_count": 12,
   "metadata": {},
   "outputs": [],
   "source": [
    "def log_all(logger, messages):\n",
    "    for msg in messages:\n",
    "        logger(msg)"
   ]
  },
  {
   "cell_type": "code",
   "execution_count": 13,
   "metadata": {},
   "outputs": [
    {
     "name": "stdout",
     "output_type": "stream",
     "text": [
      "hey\n",
      "ho\n",
      "let's\n",
      "go\n"
     ]
    },
    {
     "ename": "AssertionError",
     "evalue": "FIX ME: replace 'log_print' by the correct logging function.",
     "output_type": "error",
     "traceback": [
      "\u001b[0;31m---------------------------------------------------------------------------\u001b[0m",
      "\u001b[0;31mAssertionError\u001b[0m                            Traceback (most recent call last)",
      "\u001b[0;32m<ipython-input-13-0c03b3a2c4dd>\u001b[0m in \u001b[0;36m<module>\u001b[0;34m()\u001b[0m\n\u001b[1;32m      6\u001b[0m \u001b[0mlog_all\u001b[0m\u001b[0;34m(\u001b[0m\u001b[0mlog_print\u001b[0m\u001b[0;34m,\u001b[0m \u001b[0;34m[\u001b[0m\u001b[0;34m'hey'\u001b[0m\u001b[0;34m,\u001b[0m \u001b[0;34m'ho'\u001b[0m\u001b[0;34m,\u001b[0m \u001b[0;34m\"let's\"\u001b[0m\u001b[0;34m,\u001b[0m \u001b[0;34m'go'\u001b[0m\u001b[0;34m]\u001b[0m\u001b[0;34m)\u001b[0m\u001b[0;34m\u001b[0m\u001b[0m\n\u001b[1;32m      7\u001b[0m \u001b[0;34m\u001b[0m\u001b[0m\n\u001b[0;32m----> 8\u001b[0;31m \u001b[0;32massert\u001b[0m \u001b[0mlogged_messages\u001b[0m \u001b[0;34m==\u001b[0m \u001b[0;34m[\u001b[0m\u001b[0;34m'hey'\u001b[0m\u001b[0;34m,\u001b[0m \u001b[0;34m'ho'\u001b[0m\u001b[0;34m,\u001b[0m \u001b[0;34m\"let's\"\u001b[0m\u001b[0;34m,\u001b[0m \u001b[0;34m'go'\u001b[0m\u001b[0;34m]\u001b[0m\u001b[0;34m,\u001b[0m \u001b[0;34m\"FIX ME: replace 'log_print' by the correct logging function.\"\u001b[0m\u001b[0;34m\u001b[0m\u001b[0m\n\u001b[0m",
      "\u001b[0;31mAssertionError\u001b[0m: FIX ME: replace 'log_print' by the correct logging function."
     ]
    }
   ],
   "source": [
    "logged_messages = []\n",
    "\n",
    "def log_append():\n",
    "    pass # FIX THIS FUNCTION AND PASS TO log_all\n",
    "\n",
    "log_all(log_print, ['hey', 'ho', \"let's\", 'go'])\n",
    "\n",
    "assert logged_messages == ['hey', 'ho', \"let's\", 'go'], \"FIX ME: replace 'log_print' by the correct logging function.\""
   ]
  },
  {
   "cell_type": "code",
   "execution_count": 14,
   "metadata": {},
   "outputs": [],
   "source": [
    "# exercise 1 solution\n",
    "\n",
    "logged_messages = []\n",
    "\n",
    "def log_append(msg):\n",
    "    logged_messages.append(msg)\n",
    "\n",
    "log_all(log_append, ['hey', 'ho', \"let's\", 'go'])\n",
    "\n",
    "assert logged_messages == ['hey', 'ho', \"let's\", 'go'], \"FIX ME: replace 'log_print' by the correct logging function.\""
   ]
  },
  {
   "cell_type": "markdown",
   "metadata": {},
   "source": [
    "### **1.2 Functions as return values**\n",
    "\n",
    "* functions can be returned as the resulting value of another function"
   ]
  },
  {
   "cell_type": "code",
   "execution_count": 15,
   "metadata": {},
   "outputs": [],
   "source": [
    "def do_twice_v2(my_function):    \n",
    "    # function defined within the scope of another function\n",
    "    def inner(x):\n",
    "        return my_function(my_function(x))\n",
    "    \n",
    "    return inner  # return the inner function\n",
    "\n",
    "def do_twice_v3(my_function):    \n",
    "    # same as above, but using a lambda expression\n",
    "    return lambda x: my_function(my_function(x))"
   ]
  },
  {
   "cell_type": "code",
   "execution_count": 16,
   "metadata": {},
   "outputs": [],
   "source": [
    "twice_inc = do_twice_v2(inc)"
   ]
  },
  {
   "cell_type": "markdown",
   "metadata": {},
   "source": [
    "twice_inc(7)"
   ]
  },
  {
   "cell_type": "code",
   "execution_count": 17,
   "metadata": {},
   "outputs": [
    {
     "data": {
      "text/plain": [
       "9"
      ]
     },
     "execution_count": 17,
     "metadata": {},
     "output_type": "execute_result"
    }
   ],
   "source": [
    "do_twice_v3(inc)(7)"
   ]
  },
  {
   "cell_type": "markdown",
   "metadata": {},
   "source": [
    "### Exercise 2: **make an unsafe function safe**\n",
    "* In this exercise, you wrap a function with another function that checks for illegal input (None)"
   ]
  },
  {
   "cell_type": "code",
   "execution_count": 18,
   "metadata": {},
   "outputs": [
    {
     "data": {
      "text/plain": [
       "'HELLO!'"
      ]
     },
     "execution_count": 18,
     "metadata": {},
     "output_type": "execute_result"
    }
   ],
   "source": [
    "def loud(s):\n",
    "    return s.upper() + \"!\"\n",
    "\n",
    "loud('hello')"
   ]
  },
  {
   "cell_type": "code",
   "execution_count": 19,
   "metadata": {},
   "outputs": [
    {
     "name": "stdout",
     "output_type": "stream",
     "text": [
      "Oops, we gave loud an input that makes it throw an error: 'NoneType' object has no attribute 'upper'\n"
     ]
    }
   ],
   "source": [
    "try:\n",
    "    loud(None)\n",
    "except AttributeError as e:\n",
    "    print('Oops, we gave loud an input that makes it throw an error: ' + str(e))"
   ]
  },
  {
   "cell_type": "code",
   "execution_count": 20,
   "metadata": {},
   "outputs": [
    {
     "ename": "ValueError",
     "evalue": "FIX ME: wrap `loud` with a function that makes it safe to call with None.",
     "output_type": "error",
     "traceback": [
      "\u001b[0;31m---------------------------------------------------------------------------\u001b[0m",
      "\u001b[0;31mAttributeError\u001b[0m                            Traceback (most recent call last)",
      "\u001b[0;32m<ipython-input-20-26c3a4f1305e>\u001b[0m in \u001b[0;36m<module>\u001b[0;34m()\u001b[0m\n\u001b[1;32m      6\u001b[0m \u001b[0;34m\u001b[0m\u001b[0m\n\u001b[0;32m----> 7\u001b[0;31m     \u001b[0mloud_result\u001b[0m \u001b[0;34m=\u001b[0m \u001b[0msafe_loud\u001b[0m\u001b[0;34m(\u001b[0m\u001b[0;32mNone\u001b[0m\u001b[0;34m)\u001b[0m\u001b[0;34m\u001b[0m\u001b[0m\n\u001b[0m\u001b[1;32m      8\u001b[0m \u001b[0;34m\u001b[0m\u001b[0m\n",
      "\u001b[0;32m<ipython-input-18-b1bebb46d274>\u001b[0m in \u001b[0;36mloud\u001b[0;34m(s)\u001b[0m\n\u001b[1;32m      1\u001b[0m \u001b[0;32mdef\u001b[0m \u001b[0mloud\u001b[0m\u001b[0;34m(\u001b[0m\u001b[0ms\u001b[0m\u001b[0;34m)\u001b[0m\u001b[0;34m:\u001b[0m\u001b[0;34m\u001b[0m\u001b[0m\n\u001b[0;32m----> 2\u001b[0;31m     \u001b[0;32mreturn\u001b[0m \u001b[0ms\u001b[0m\u001b[0;34m.\u001b[0m\u001b[0mupper\u001b[0m\u001b[0;34m(\u001b[0m\u001b[0;34m)\u001b[0m \u001b[0;34m+\u001b[0m \u001b[0;34m\"!\"\u001b[0m\u001b[0;34m\u001b[0m\u001b[0m\n\u001b[0m\u001b[1;32m      3\u001b[0m \u001b[0;34m\u001b[0m\u001b[0m\n",
      "\u001b[0;31mAttributeError\u001b[0m: 'NoneType' object has no attribute 'upper'",
      "\nDuring handling of the above exception, another exception occurred:\n",
      "\u001b[0;31mValueError\u001b[0m                                Traceback (most recent call last)",
      "\u001b[0;32m<ipython-input-20-26c3a4f1305e>\u001b[0m in \u001b[0;36m<module>\u001b[0;34m()\u001b[0m\n\u001b[1;32m      9\u001b[0m     \u001b[0;32massert\u001b[0m \u001b[0mloud_result\u001b[0m \u001b[0;34m==\u001b[0m \u001b[0;34m'SILENCE!'\u001b[0m\u001b[0;34m,\u001b[0m \u001b[0;34m\"FIX ME: we expect N/A as fallback result, result was: '{}'.\"\u001b[0m\u001b[0;34m.\u001b[0m\u001b[0mformat\u001b[0m\u001b[0;34m(\u001b[0m\u001b[0mloud_result\u001b[0m\u001b[0;34m)\u001b[0m\u001b[0;34m\u001b[0m\u001b[0m\n\u001b[1;32m     10\u001b[0m \u001b[0;32mexcept\u001b[0m \u001b[0mAttributeError\u001b[0m \u001b[0;32mas\u001b[0m \u001b[0me\u001b[0m\u001b[0;34m:\u001b[0m\u001b[0;34m\u001b[0m\u001b[0m\n\u001b[0;32m---> 11\u001b[0;31m     \u001b[0;32mraise\u001b[0m \u001b[0mValueError\u001b[0m\u001b[0;34m(\u001b[0m\u001b[0;34m\"FIX ME: wrap `loud` with a function that makes it safe to call with None.\"\u001b[0m\u001b[0;34m)\u001b[0m\u001b[0;34m\u001b[0m\u001b[0m\n\u001b[0m",
      "\u001b[0;31mValueError\u001b[0m: FIX ME: wrap `loud` with a function that makes it safe to call with None."
     ]
    }
   ],
   "source": [
    "def make_safe(fn, fallback='silence'):\n",
    "    return fn # FIX THIS FUNCTION\n",
    "\n",
    "try:\n",
    "    safe_loud = make_safe(loud)\n",
    "    \n",
    "    loud_result = safe_loud(None) \n",
    "    \n",
    "    assert loud_result == 'SILENCE!', \"FIX ME: we expect N/A as fallback result, result was: '{}'.\".format(loud_result)\n",
    "except AttributeError as e:\n",
    "    raise ValueError(\"FIX ME: wrap `loud` with a function that makes it safe to call with None.\")"
   ]
  },
  {
   "cell_type": "code",
   "execution_count": 21,
   "metadata": {},
   "outputs": [],
   "source": [
    "# exercise 2 solution\n",
    "\n",
    "def make_safe(fn, fallback='silence'):\n",
    "    def inner(s):\n",
    "        if s:\n",
    "            return fn(s)\n",
    "        else:\n",
    "            return fn(fallback)\n",
    "        \n",
    "    return inner\n",
    "        \n",
    "\n",
    "try:\n",
    "    safe_loud = make_safe(loud)\n",
    "    \n",
    "    loud_result = safe_loud(None) \n",
    "    \n",
    "    assert loud_result == 'SILENCE!', \"FIX ME: we expect N/A as fallback result, result was: '{}'.\".format(loud_result)\n",
    "except AttributeError as e:\n",
    "    raise ValueError(\"FIX ME: wrap `loud` with a function that makes it safe to call with None.\")"
   ]
  },
  {
   "cell_type": "markdown",
   "metadata": {},
   "source": [
    "**NOTE**\n",
    "\n",
    "> functions that take or produce functions are called: **higher-order functions**\n",
    "\n",
    "### **1.3 Partial function application (a.k.a. partial evaluation)**\n",
    "\n",
    "* partial application creates a new function by filling in a subset of a functions arguments, using __`partial`__\n",
    "* see: https://toolz.readthedocs.io/en/latest/curry.html#partial-evaluation"
   ]
  },
  {
   "cell_type": "code",
   "execution_count": 22,
   "metadata": {},
   "outputs": [
    {
     "data": {
      "text/plain": [
       "\u001b[0;31mSignature:\u001b[0m \u001b[0minc\u001b[0m\u001b[0;34m(\u001b[0m\u001b[0mx\u001b[0m\u001b[0;34m)\u001b[0m\u001b[0;34m\u001b[0m\u001b[0m\n",
       "\u001b[0;31mDocstring:\u001b[0m\n",
       ":param x: integer to increment\n",
       ":return: incremented integer\n",
       "\u001b[0;31mFile:\u001b[0m      ~/work/kuleuven/projects/fun_py/notebooks/<ipython-input-7-7eb5cebf16e9>\n",
       "\u001b[0;31mType:\u001b[0m      function\n"
      ]
     },
     "metadata": {},
     "output_type": "display_data"
    }
   ],
   "source": [
    "inc?"
   ]
  },
  {
   "cell_type": "code",
   "execution_count": 23,
   "metadata": {},
   "outputs": [],
   "source": [
    "twice_inc = tz.partial(do_twice, inc)"
   ]
  },
  {
   "cell_type": "code",
   "execution_count": 24,
   "metadata": {},
   "outputs": [
    {
     "data": {
      "text/plain": [
       "5"
      ]
     },
     "execution_count": 24,
     "metadata": {},
     "output_type": "execute_result"
    }
   ],
   "source": [
    "twice_inc(3)"
   ]
  },
  {
   "cell_type": "markdown",
   "metadata": {},
   "source": [
    "### **1.4 Function currying**\n",
    "\n",
    "* curried functions automates partial application\n",
    "* see: https://toolz.readthedocs.io/en/latest/curry.html#id1"
   ]
  },
  {
   "cell_type": "code",
   "execution_count": 25,
   "metadata": {},
   "outputs": [],
   "source": [
    "@tz.curry\n",
    "def do_twice_curried(fn, x):\n",
    "    return fn(fn(x))"
   ]
  },
  {
   "cell_type": "markdown",
   "metadata": {},
   "source": [
    "* still works as expected"
   ]
  },
  {
   "cell_type": "code",
   "execution_count": 26,
   "metadata": {},
   "outputs": [
    {
     "data": {
      "text/plain": [
       "10"
      ]
     },
     "execution_count": 26,
     "metadata": {},
     "output_type": "execute_result"
    }
   ],
   "source": [
    "do_twice_curried(inc, 8)"
   ]
  },
  {
   "cell_type": "markdown",
   "metadata": {},
   "source": [
    "* if not all arguments are provided, a partially applied function is returned"
   ]
  },
  {
   "cell_type": "code",
   "execution_count": 27,
   "metadata": {},
   "outputs": [],
   "source": [
    "twice_inc = do_twice_curried(inc)"
   ]
  },
  {
   "cell_type": "code",
   "execution_count": 28,
   "metadata": {},
   "outputs": [
    {
     "data": {
      "text/plain": [
       "6"
      ]
     },
     "execution_count": 28,
     "metadata": {},
     "output_type": "execute_result"
    }
   ],
   "source": [
    "twice_inc(4)"
   ]
  },
  {
   "cell_type": "markdown",
   "metadata": {},
   "source": [
    "### **1.5 Function composition**\n",
    "* careful: order of functions in a composition is reversed"
   ]
  },
  {
   "cell_type": "code",
   "execution_count": 29,
   "metadata": {},
   "outputs": [],
   "source": [
    "def is_even(i):\n",
    "    return i % 2 == 0\n",
    "    \n",
    "is_even_length = tz.compose(is_even, len)"
   ]
  },
  {
   "cell_type": "code",
   "execution_count": 30,
   "metadata": {},
   "outputs": [
    {
     "data": {
      "text/plain": [
       "False"
      ]
     },
     "execution_count": 30,
     "metadata": {},
     "output_type": "execute_result"
    }
   ],
   "source": [
    "is_even_length('nope!')"
   ]
  },
  {
   "cell_type": "code",
   "execution_count": 31,
   "metadata": {},
   "outputs": [
    {
     "data": {
      "text/plain": [
       "True"
      ]
     },
     "execution_count": 31,
     "metadata": {},
     "output_type": "execute_result"
    }
   ],
   "source": [
    "is_even_length('hello, world')"
   ]
  },
  {
   "cell_type": "markdown",
   "metadata": {},
   "source": [
    "* Advanced: `thread_last`\n",
    "* push a value through a list of functions"
   ]
  },
  {
   "cell_type": "code",
   "execution_count": 32,
   "metadata": {},
   "outputs": [
    {
     "data": {
      "text/plain": [
       "18"
      ]
     },
     "execution_count": 32,
     "metadata": {},
     "output_type": "execute_result"
    }
   ],
   "source": [
    "tz.thread_last('hello, world',\n",
    "               len,\n",
    "               inc,\n",
    "               (add, 5))"
   ]
  },
  {
   "cell_type": "markdown",
   "metadata": {},
   "source": [
    "### **1.6 Purity**\n",
    "* see https://toolz.readthedocs.io/en/latest/purity.html\n",
    "\n",
    "### **1.7 Laziness**\n",
    "\n",
    "* see https://toolz.readthedocs.io/en/latest/laziness.html"
   ]
  },
  {
   "cell_type": "markdown",
   "metadata": {},
   "source": [
    "---\n",
    "\n",
    "## **2. Functions operating on collections**\n",
    "\n",
    "In a data processing context, **functions** and **collections** go hand in hand.\n",
    "\n",
    "* functions to transform collections\n",
    "* functions to aggregate or summarize collections\n",
    "* map, filter, reduce are the workhorses, the most common higher-order functions that operate on collections"
   ]
  },
  {
   "cell_type": "code",
   "execution_count": 33,
   "metadata": {},
   "outputs": [],
   "source": [
    "scientists = [{'first': 'Richard', 'last': 'Feynman',  'gender': 'M'}, \n",
    "              {'first': 'Marie',   'last': 'Curie',    'gender': 'F'},\n",
    "              {'first': 'Paul',    'last': 'Stamets',  'gender': 'M'},\n",
    "              {'first': 'Ada',     'last': 'Lovelace', 'gender': 'F'},\n",
    "              {'first': 'Stephen', 'last': 'Hawking',  'gender': 'M'},\n",
    "              {'first': 'Carolyn', 'last': 'Porco',    'gender': 'F'}]"
   ]
  },
  {
   "cell_type": "markdown",
   "metadata": {},
   "source": [
    "### **2.1 Mapping**\n",
    "\n",
    "* we pass length as the to `map` as the function to apply to all entries in the collection \n",
    "* the length of the output is equal to the length of the input\n",
    "\n",
    "Let's check out the function signature:\n",
    "\n",
    "```\n",
    "map(func, *iterables) --> map object\n",
    "```"
   ]
  },
  {
   "cell_type": "code",
   "execution_count": 34,
   "metadata": {},
   "outputs": [
    {
     "data": {
      "text/plain": [
       "\u001b[0;31mInit signature:\u001b[0m \u001b[0mtz\u001b[0m\u001b[0;34m.\u001b[0m\u001b[0mmap\u001b[0m\u001b[0;34m(\u001b[0m\u001b[0mself\u001b[0m\u001b[0;34m,\u001b[0m \u001b[0;34m/\u001b[0m\u001b[0;34m,\u001b[0m \u001b[0;34m*\u001b[0m\u001b[0margs\u001b[0m\u001b[0;34m,\u001b[0m \u001b[0;34m**\u001b[0m\u001b[0mkwargs\u001b[0m\u001b[0;34m)\u001b[0m\u001b[0;34m\u001b[0m\u001b[0m\n",
       "\u001b[0;31mDocstring:\u001b[0m     \n",
       "map(func, *iterables) --> map object\n",
       "\n",
       "Make an iterator that computes the function using arguments from\n",
       "each of the iterables.  Stops when the shortest iterable is exhausted.\n",
       "\u001b[0;31mType:\u001b[0m           type\n"
      ]
     },
     "metadata": {},
     "output_type": "display_data"
    }
   ],
   "source": [
    "tz.map?"
   ]
  },
  {
   "cell_type": "code",
   "execution_count": 35,
   "metadata": {},
   "outputs": [],
   "source": [
    "def last_name(scientist):\n",
    "    return scientist['last']\n",
    "\n",
    "name_lengths = tz.map(tz.compose(len, last_name), scientists)"
   ]
  },
  {
   "cell_type": "markdown",
   "metadata": {},
   "source": [
    "* mapping is lazy\n",
    "* the result is not immediately computed"
   ]
  },
  {
   "cell_type": "code",
   "execution_count": 36,
   "metadata": {},
   "outputs": [
    {
     "data": {
      "text/plain": [
       "<map at 0x7fa766c73198>"
      ]
     },
     "execution_count": 36,
     "metadata": {},
     "output_type": "execute_result"
    }
   ],
   "source": [
    "name_lengths"
   ]
  },
  {
   "cell_type": "markdown",
   "metadata": {},
   "source": [
    "* we turn the map into a collection by wrapping it into a list"
   ]
  },
  {
   "cell_type": "code",
   "execution_count": 37,
   "metadata": {},
   "outputs": [
    {
     "data": {
      "text/plain": [
       "[7, 5, 7, 8, 7, 5]"
      ]
     },
     "execution_count": 37,
     "metadata": {},
     "output_type": "execute_result"
    }
   ],
   "source": [
    "list(name_lengths)"
   ]
  },
  {
   "cell_type": "markdown",
   "metadata": {},
   "source": [
    "**NOTE:**\n",
    "\n",
    "* we can map over multiple collections at once\n",
    "* we need to pass in a function with a different signature"
   ]
  },
  {
   "cell_type": "code",
   "execution_count": 38,
   "metadata": {},
   "outputs": [],
   "source": [
    "sums = tz.map(lambda x, y: x + y, [0, 1, 2, 3], [10, 11, 12, 13])"
   ]
  },
  {
   "cell_type": "code",
   "execution_count": 39,
   "metadata": {},
   "outputs": [
    {
     "data": {
      "text/plain": [
       "[10, 12, 14, 16]"
      ]
     },
     "execution_count": 39,
     "metadata": {},
     "output_type": "execute_result"
    }
   ],
   "source": [
    "list(sums)"
   ]
  },
  {
   "cell_type": "markdown",
   "metadata": {},
   "source": [
    "### Exercise 3: **shout names**\n",
    "* use **partial evaluation** and **function composition** to construct a function that returns loud first names from a list of scientists\n",
    "* no need to bother with input validation"
   ]
  },
  {
   "cell_type": "code",
   "execution_count": 40,
   "metadata": {},
   "outputs": [
    {
     "ename": "SyntaxError",
     "evalue": "invalid syntax (<ipython-input-40-086f9e6b1366>, line 4)",
     "output_type": "error",
     "traceback": [
      "\u001b[0;36m  File \u001b[0;32m\"<ipython-input-40-086f9e6b1366>\"\u001b[0;36m, line \u001b[0;32m4\u001b[0m\n\u001b[0;31m    shout_first_names = # tz.partial(...FIX ME\u001b[0m\n\u001b[0m                                              ^\u001b[0m\n\u001b[0;31mSyntaxError\u001b[0m\u001b[0;31m:\u001b[0m invalid syntax\n"
     ]
    }
   ],
   "source": [
    "def first_name(scientist):\n",
    "    pass # FIX ME\n",
    "\n",
    "shout_first_names = # tz.partial(...FIX ME\n",
    "\n",
    "shouted_first_names = list(shout_first_names(scientists))\n",
    "\n",
    "assert shouted_first_names == ['RICHARD!', 'MARIE!', 'PAUL!', 'ADA!', 'STEPHEN!', 'CAROLYN!'], \"FIX ME\""
   ]
  },
  {
   "cell_type": "code",
   "execution_count": 41,
   "metadata": {},
   "outputs": [],
   "source": [
    "# exercise 3 solution\n",
    "\n",
    "def first_name(scientist):\n",
    "    return scientist['first']\n",
    "\n",
    "shout_first_names = tz.partial(tz.map, tz.compose(loud, first_name))\n",
    "\n",
    "shouted_first_names = list(shout_first_names(scientists))\n",
    "\n",
    "assert shouted_first_names == ['RICHARD!', 'MARIE!', 'PAUL!', 'ADA!', 'STEPHEN!', 'CAROLYN!'], \"FIX ME\""
   ]
  },
  {
   "cell_type": "markdown",
   "metadata": {},
   "source": [
    "### **2.2 Filtering**\n",
    "\n",
    "* we pass a **predicate**, i.e. a function that takes an entry and returns a Boolean value:\n",
    "\n",
    "```\n",
    "f: A -> Boolean\n",
    "```"
   ]
  },
  {
   "cell_type": "code",
   "execution_count": 42,
   "metadata": {},
   "outputs": [
    {
     "data": {
      "text/plain": [
       "[{'first': 'Marie', 'gender': 'F', 'last': 'Curie'},\n",
       " {'first': 'Ada', 'gender': 'F', 'last': 'Lovelace'},\n",
       " {'first': 'Carolyn', 'gender': 'F', 'last': 'Porco'}]"
      ]
     },
     "execution_count": 42,
     "metadata": {},
     "output_type": "execute_result"
    }
   ],
   "source": [
    "ladies_only = tz.filter(lambda s: s['gender'] == 'F', scientists)\n",
    "\n",
    "list(ladies_only)"
   ]
  },
  {
   "cell_type": "markdown",
   "metadata": {},
   "source": [
    "### Exercise 4: **filter out short first names**\n",
    "\n",
    "* return the first names shorter than 5 characters\n",
    "* style points for using `thread_last`, and `partial`"
   ]
  },
  {
   "cell_type": "code",
   "execution_count": 43,
   "metadata": {},
   "outputs": [
    {
     "ename": "SyntaxError",
     "evalue": "invalid syntax (<ipython-input-43-bdc801d09788>, line 1)",
     "output_type": "error",
     "traceback": [
      "\u001b[0;36m  File \u001b[0;32m\"<ipython-input-43-bdc801d09788>\"\u001b[0;36m, line \u001b[0;32m1\u001b[0m\n\u001b[0;31m    short_first_names = # FIX ME map and filter\u001b[0m\n\u001b[0m                                               ^\u001b[0m\n\u001b[0;31mSyntaxError\u001b[0m\u001b[0;31m:\u001b[0m invalid syntax\n"
     ]
    }
   ],
   "source": [
    "short_first_names = # FIX ME map and filter"
   ]
  },
  {
   "cell_type": "code",
   "execution_count": 44,
   "metadata": {},
   "outputs": [],
   "source": [
    "# exercise 4 solution\n",
    "\n",
    "short_first_names = tz.thread_last(scientists,\n",
    "                                   tz.partial(tz.map, lambda s: s['first']),\n",
    "                                   tz.partial(tz.filter, lambda s: len(s) < 5))"
   ]
  },
  {
   "cell_type": "code",
   "execution_count": 45,
   "metadata": {},
   "outputs": [],
   "source": [
    "assert set(short_first_names) == {'Paul', 'Ada'}"
   ]
  },
  {
   "cell_type": "markdown",
   "metadata": {},
   "source": [
    "### **2.3 Reducing**\n",
    "\n",
    "* a **reduction** collapses the collection\n",
    "\n",
    "Let's check the function signature:\n",
    "\n",
    "```\n",
    "reduce(function, sequence[, initial]) -> value\n",
    "```\n",
    "* the reduce function signature:\n",
    "\n",
    "```\n",
    "f: Accumulator -> Element -> Accumulator\n",
    "```\n",
    "\n",
    "* often the `Accumulator` and `Element` types are equal, e.g. summing numeric values\n",
    "* the result is a single value\n",
    "* optional argument: `initial`, e.g. the \"zero\" value for the function operation, e.g.:\n",
    "    * 0 for addition\n",
    "    * 1 for multiplication\n",
    "    * ..."
   ]
  },
  {
   "cell_type": "code",
   "execution_count": 46,
   "metadata": {},
   "outputs": [
    {
     "data": {
      "text/plain": [
       "\u001b[0;31mDocstring:\u001b[0m\n",
       "reduce(function, sequence[, initial]) -> value\n",
       "\n",
       "Apply a function of two arguments cumulatively to the items of a sequence,\n",
       "from left to right, so as to reduce the sequence to a single value.\n",
       "For example, reduce(lambda x, y: x+y, [1, 2, 3, 4, 5]) calculates\n",
       "((((1+2)+3)+4)+5).  If initial is present, it is placed before the items\n",
       "of the sequence in the calculation, and serves as a default when the\n",
       "sequence is empty.\n",
       "\u001b[0;31mType:\u001b[0m      builtin_function_or_method\n"
      ]
     },
     "metadata": {},
     "output_type": "display_data"
    }
   ],
   "source": [
    "tz.reduce?"
   ]
  },
  {
   "cell_type": "code",
   "execution_count": 47,
   "metadata": {},
   "outputs": [
    {
     "data": {
      "text/plain": [
       "10"
      ]
     },
     "execution_count": 47,
     "metadata": {},
     "output_type": "execute_result"
    }
   ],
   "source": [
    "sum_numbers = tz.reduce(lambda x, y: x + y, range(1, 5))\n",
    "\n",
    "sum_numbers"
   ]
  },
  {
   "cell_type": "markdown",
   "metadata": {},
   "source": [
    "* or written more elegantly using the `add` operator"
   ]
  },
  {
   "cell_type": "code",
   "execution_count": 48,
   "metadata": {},
   "outputs": [
    {
     "data": {
      "text/plain": [
       "10"
      ]
     },
     "execution_count": 48,
     "metadata": {},
     "output_type": "execute_result"
    }
   ],
   "source": [
    "tz.reduce(add, range(1, 5))"
   ]
  },
  {
   "cell_type": "markdown",
   "metadata": {},
   "source": [
    "* the `Accumulator` (int) and `Element` (dict) have different signatures\n",
    "* we need to provide an initial value for the accumulator"
   ]
  },
  {
   "cell_type": "code",
   "execution_count": 49,
   "metadata": {},
   "outputs": [],
   "source": [
    "sum_first_name_lengths = tz.reduce(lambda acc, s: acc + len(s['first']), scientists, 0)\n",
    "\n",
    "assert sum_first_name_lengths == 33"
   ]
  },
  {
   "cell_type": "markdown",
   "metadata": {},
   "source": [
    "### Exercise 5: **reducing into a dict of counts**\n",
    "* count the number of scientists by gender by reducing into a dictionary\n",
    "* hint: useful functions for updating dictionaries: http://toolz.readthedocs.io/en/latest/api.html#dicttoolz \n",
    "* eg: `update_in`"
   ]
  },
  {
   "cell_type": "code",
   "execution_count": 50,
   "metadata": {},
   "outputs": [],
   "source": [
    "my_dict = {'foo': 1}"
   ]
  },
  {
   "cell_type": "code",
   "execution_count": 51,
   "metadata": {},
   "outputs": [
    {
     "data": {
      "text/plain": [
       "{'foo': 2}"
      ]
     },
     "execution_count": 51,
     "metadata": {},
     "output_type": "execute_result"
    }
   ],
   "source": [
    "tz.update_in(my_dict, ['foo'], inc, default=0)"
   ]
  },
  {
   "cell_type": "code",
   "execution_count": 52,
   "metadata": {},
   "outputs": [
    {
     "data": {
      "text/plain": [
       "{'bar': 1, 'foo': 1}"
      ]
     },
     "execution_count": 52,
     "metadata": {},
     "output_type": "execute_result"
    }
   ],
   "source": [
    "tz.update_in(my_dict, ['bar'], inc, default=0)"
   ]
  },
  {
   "cell_type": "markdown",
   "metadata": {},
   "source": [
    "**NOTE:**\n",
    "\n",
    "* `update_in` creates new dictionary instances!\n",
    "* the input is not mutated"
   ]
  },
  {
   "cell_type": "code",
   "execution_count": 53,
   "metadata": {},
   "outputs": [
    {
     "data": {
      "text/plain": [
       "{'foo': 1}"
      ]
     },
     "execution_count": 53,
     "metadata": {},
     "output_type": "execute_result"
    }
   ],
   "source": [
    "my_dict"
   ]
  },
  {
   "cell_type": "code",
   "execution_count": 54,
   "metadata": {},
   "outputs": [
    {
     "ename": "SyntaxError",
     "evalue": "invalid syntax (<ipython-input-54-20b8c2d1662e>, line 2)",
     "output_type": "error",
     "traceback": [
      "\u001b[0;36m  File \u001b[0;32m\"<ipython-input-54-20b8c2d1662e>\"\u001b[0;36m, line \u001b[0;32m2\u001b[0m\n\u001b[0;31m    init_accumulator = # FIX ME\u001b[0m\n\u001b[0m                               ^\u001b[0m\n\u001b[0;31mSyntaxError\u001b[0m\u001b[0;31m:\u001b[0m invalid syntax\n"
     ]
    }
   ],
   "source": [
    "def exercise5():\n",
    "    init_accumulator = # FIX ME\n",
    "\n",
    "    def inc_gender(acc, sci):\n",
    "        return # FIX ME\n",
    "    \n",
    "    nr_scientists_by_gender = tz.reduce(inc_gender, scientists, init_accumulator)\n",
    "    \n",
    "    return nr_scientists_by_gender\n",
    "\n",
    "assert exercise5() == {'M': 3, 'F': 3}, \"FIX THIS\""
   ]
  },
  {
   "cell_type": "code",
   "execution_count": 56,
   "metadata": {},
   "outputs": [],
   "source": [
    "# exercise 5 solution\n",
    "\n",
    "def exercise5():\n",
    "    init_accumulator = {}\n",
    "\n",
    "    def inc_gender(acc, scientist):\n",
    "        return tz.update_in(acc, keys=[scientist['gender']], func=inc, default=0)\n",
    "    \n",
    "    nr_scientists_by_gender = tz.reduce(inc_gender, scientists, init_accumulator)\n",
    "    \n",
    "    return nr_scientists_by_gender\n",
    "\n",
    "assert exercise5() == {'M': 3, 'F': 3}, \"FIX THIS\""
   ]
  },
  {
   "cell_type": "markdown",
   "metadata": {},
   "source": [
    "### Excercise 5b: **same as exercise 4 but using `reduceby`**\n",
    "\n",
    "* hint: the accumulator is not map but an integer"
   ]
  },
  {
   "cell_type": "code",
   "execution_count": 57,
   "metadata": {},
   "outputs": [
    {
     "ename": "NameError",
     "evalue": "name 'init_accumulator' is not defined",
     "output_type": "error",
     "traceback": [
      "\u001b[0;31m---------------------------------------------------------------------------\u001b[0m",
      "\u001b[0;31mNameError\u001b[0m                                 Traceback (most recent call last)",
      "\u001b[0;32m<ipython-input-57-1af78a3c8fb7>\u001b[0m in \u001b[0;36m<module>\u001b[0;34m()\u001b[0m\n\u001b[1;32m     10\u001b[0m     \u001b[0;32mreturn\u001b[0m \u001b[0mtz\u001b[0m\u001b[0;34m.\u001b[0m\u001b[0mreduceby\u001b[0m\u001b[0;34m(\u001b[0m\u001b[0;34m'gender'\u001b[0m\u001b[0;34m,\u001b[0m \u001b[0mbinop\u001b[0m\u001b[0;34m,\u001b[0m \u001b[0mscientists\u001b[0m\u001b[0;34m,\u001b[0m \u001b[0minit_accumulator\u001b[0m\u001b[0;34m)\u001b[0m\u001b[0;34m\u001b[0m\u001b[0m\n\u001b[1;32m     11\u001b[0m \u001b[0;34m\u001b[0m\u001b[0m\n\u001b[0;32m---> 12\u001b[0;31m \u001b[0;32massert\u001b[0m \u001b[0mexercise5b\u001b[0m\u001b[0;34m(\u001b[0m\u001b[0;34m)\u001b[0m \u001b[0;34m==\u001b[0m \u001b[0;34m{\u001b[0m\u001b[0;34m'M'\u001b[0m\u001b[0;34m:\u001b[0m \u001b[0;36m3\u001b[0m\u001b[0;34m,\u001b[0m \u001b[0;34m'F'\u001b[0m\u001b[0;34m:\u001b[0m \u001b[0;36m3\u001b[0m\u001b[0;34m}\u001b[0m\u001b[0;34m,\u001b[0m \u001b[0;34m\"FIX THIS\"\u001b[0m\u001b[0;34m\u001b[0m\u001b[0m\n\u001b[0m",
      "\u001b[0;32m<ipython-input-57-1af78a3c8fb7>\u001b[0m in \u001b[0;36mexercise5b\u001b[0;34m()\u001b[0m\n\u001b[1;32m      3\u001b[0m \u001b[0;32mdef\u001b[0m \u001b[0mexercise5b\u001b[0m\u001b[0;34m(\u001b[0m\u001b[0;34m)\u001b[0m\u001b[0;34m:\u001b[0m\u001b[0;34m\u001b[0m\u001b[0m\n\u001b[1;32m      4\u001b[0m \u001b[0;34m\u001b[0m\u001b[0m\n\u001b[0;32m----> 5\u001b[0;31m     \u001b[0minit_accumulator\u001b[0m \u001b[0;31m# FIX ME\u001b[0m\u001b[0;34m\u001b[0m\u001b[0m\n\u001b[0m\u001b[1;32m      6\u001b[0m \u001b[0;34m\u001b[0m\u001b[0m\n\u001b[1;32m      7\u001b[0m     \u001b[0;32mdef\u001b[0m \u001b[0mbinop\u001b[0m\u001b[0;34m(\u001b[0m\u001b[0macc\u001b[0m\u001b[0;34m,\u001b[0m \u001b[0mscientist\u001b[0m\u001b[0;34m)\u001b[0m\u001b[0;34m:\u001b[0m\u001b[0;34m\u001b[0m\u001b[0m\n",
      "\u001b[0;31mNameError\u001b[0m: name 'init_accumulator' is not defined"
     ]
    }
   ],
   "source": [
    "# exercise 4 b solution\n",
    "\n",
    "def exercise5b():\n",
    "\n",
    "    init_accumulator # FIX ME\n",
    "    \n",
    "    def binop(acc, scientist):\n",
    "        return # FIX ME\n",
    "\n",
    "    return tz.reduceby('gender', binop, scientists, init_accumulator)\n",
    "    \n",
    "assert exercise5b() == {'M': 3, 'F': 3}, \"FIX THIS\""
   ]
  },
  {
   "cell_type": "code",
   "execution_count": 59,
   "metadata": {},
   "outputs": [],
   "source": [
    "# exercise 5b solution\n",
    "\n",
    "def exercise5b():\n",
    "    \n",
    "    init_accumulator = 0\n",
    "\n",
    "    return tz.reduceby('gender', lambda acc, s: acc+1, scientists, init_accumulator)\n",
    "    \n",
    "assert exercise5b() == {'M': 3, 'F': 3}, \"FIX THIS\""
   ]
  },
  {
   "cell_type": "markdown",
   "metadata": {},
   "source": [
    "## **2. Parallel computations using Dask**\n",
    "\n",
    "In the following exercises, we apply the functional concepts explored in the previous exercises to computations that run in parallel. \n",
    "\n",
    "We will use the [Bag](https://dask.pydata.org/en/latest/bag.html) data structure from the [Dask](https://dask.pydata.org/en/latest/docs.html) library to implement our solutions. Dask Bags were inspired by Spark's Resilient Distributed Datasets (RDD), and have a very similar API. They are a convenient way to teach a programming style that is common across multiple \"big data\" libraries without the burden of setting up complex infrastructure (eg. a Spark cluster)."
   ]
  },
  {
   "cell_type": "markdown",
   "metadata": {},
   "source": [
    "* let's create a Dask Bag with 8 partitions (parallel subsets)"
   ]
  },
  {
   "cell_type": "code",
   "execution_count": 64,
   "metadata": {},
   "outputs": [],
   "source": [
    "bag_of_ints = db.from_sequence(list(range(0, 1000)), npartitions=4)"
   ]
  },
  {
   "cell_type": "code",
   "execution_count": 65,
   "metadata": {},
   "outputs": [
    {
     "data": {
      "text/plain": [
       "(0, 1, 2)"
      ]
     },
     "execution_count": 65,
     "metadata": {},
     "output_type": "execute_result"
    }
   ],
   "source": [
    "bag_of_ints.take(3)"
   ]
  },
  {
   "cell_type": "code",
   "execution_count": 66,
   "metadata": {},
   "outputs": [],
   "source": [
    "sum_by_even = bag_of_ints.foldby(key=lambda x: x % 2 == 0, binop=lambda x,y: x+y)"
   ]
  },
  {
   "cell_type": "code",
   "execution_count": 67,
   "metadata": {},
   "outputs": [
    {
     "data": {
      "text/plain": [
       "[(False, 250000), (True, 249500)]"
      ]
     },
     "execution_count": 67,
     "metadata": {},
     "output_type": "execute_result"
    }
   ],
   "source": [
    "list(sum_by_even)"
   ]
  },
  {
   "cell_type": "markdown",
   "metadata": {},
   "source": [
    "## **3. Dos cervezas, por favor!**\n",
    "\n",
    "* following exercises use a dataset parsed from a `json` file\n",
    "* we'll be using a **Dask bag** to compute some answers"
   ]
  },
  {
   "cell_type": "code",
   "execution_count": 68,
   "metadata": {},
   "outputs": [],
   "source": [
    "def is_valid(raw_dict):\n",
    "    return raw_dict['Percentagealcohol'] != 'NA'\n",
    "\n",
    "def parse_beer(raw_dict):        \n",
    "    return {'brewery': raw_dict['Brouwerij'],\n",
    "            'brand': raw_dict['Merk'],\n",
    "            'type': raw_dict['Soort'],\n",
    "            'alcohol_pct': float(raw_dict['Percentagealcohol'])}\n",
    "\n",
    "beers_unfiltered = db.from_sequence(json.load(open('../data/beers.json')), npartitions=4)"
   ]
  },
  {
   "cell_type": "markdown",
   "metadata": {},
   "source": [
    "* count the number of invalid beer entries (these have a missing value for 'NA')\n",
    "* Bags are lazy data structures: not all operations (like `count`) immediately return a result! \n",
    "* Call `.compute()` to obtain the actual result"
   ]
  },
  {
   "cell_type": "code",
   "execution_count": 69,
   "metadata": {},
   "outputs": [
    {
     "data": {
      "text/plain": [
       "12"
      ]
     },
     "execution_count": 69,
     "metadata": {},
     "output_type": "execute_result"
    }
   ],
   "source": [
    "beers_unfiltered.filter(predicate=lambda x: not is_valid(x)).count().compute()"
   ]
  },
  {
   "cell_type": "markdown",
   "metadata": {},
   "source": [
    "* let's now get rid of invalid entries and parse them into a more convenient representation"
   ]
  },
  {
   "cell_type": "code",
   "execution_count": 70,
   "metadata": {},
   "outputs": [],
   "source": [
    "beers = beers_unfiltered.filter(is_valid).map(parse_beer).persist()"
   ]
  },
  {
   "cell_type": "markdown",
   "metadata": {},
   "source": [
    "* quiz: why have we used the `persist` function above?"
   ]
  },
  {
   "cell_type": "code",
   "execution_count": 71,
   "metadata": {},
   "outputs": [
    {
     "data": {
      "text/plain": [
       "({'alcohol_pct': 6.0,\n",
       "  'brand': '3 Schténg',\n",
       "  'brewery': \"Brasserie Grain d'Orge\",\n",
       "  'type': 'hoge gisting'},\n",
       " {'alcohol_pct': 5.6,\n",
       "  'brand': '400',\n",
       "  'brewery': \"'t Hofbrouwerijke voor Brouwerij Montaigu\",\n",
       "  'type': 'blond'})"
      ]
     },
     "execution_count": 71,
     "metadata": {},
     "output_type": "execute_result"
    }
   ],
   "source": [
    "beers.take(2)"
   ]
  },
  {
   "cell_type": "markdown",
   "metadata": {},
   "source": [
    "---\n",
    "\n",
    "### Exercise 5: **find the number of breweries**\n",
    "\n",
    "* based on brewery name \n",
    "* take into account upper or lower case!\n",
    "* hint: to get unique results, use `distinct`"
   ]
  },
  {
   "cell_type": "code",
   "execution_count": 72,
   "metadata": {},
   "outputs": [
    {
     "ename": "SyntaxError",
     "evalue": "invalid syntax (<ipython-input-72-5fc699dd5abb>, line 1)",
     "output_type": "error",
     "traceback": [
      "\u001b[0;36m  File \u001b[0;32m\"<ipython-input-72-5fc699dd5abb>\"\u001b[0;36m, line \u001b[0;32m1\u001b[0m\n\u001b[0;31m    nr_breweries = # FIX ME\u001b[0m\n\u001b[0m                           ^\u001b[0m\n\u001b[0;31mSyntaxError\u001b[0m\u001b[0;31m:\u001b[0m invalid syntax\n"
     ]
    }
   ],
   "source": [
    "nr_breweries = # FIX ME"
   ]
  },
  {
   "cell_type": "code",
   "execution_count": 73,
   "metadata": {},
   "outputs": [],
   "source": [
    "# exercise 5 solution\n",
    "nr_breweries = beers.map(lambda b: b['brewery'].upper()).distinct().count().compute()"
   ]
  },
  {
   "cell_type": "code",
   "execution_count": 74,
   "metadata": {},
   "outputs": [],
   "source": [
    "assert nr_breweries == 350"
   ]
  },
  {
   "cell_type": "markdown",
   "metadata": {},
   "source": [
    "### Exercise 6: **find the strongest beer**\n",
    "* use a reduction\n",
    "* hint: the dask bag function for reducing is called: `fold`"
   ]
  },
  {
   "cell_type": "code",
   "execution_count": 75,
   "metadata": {},
   "outputs": [],
   "source": [
    "strongest_beer = beers.fold # FIX ME"
   ]
  },
  {
   "cell_type": "code",
   "execution_count": 76,
   "metadata": {},
   "outputs": [],
   "source": [
    "# exercise 6 solution\n",
    "\n",
    "strongest_beer = beers.fold(lambda b1, b2: b1 if b1['alcohol_pct'] > b2['alcohol_pct'] else b2).compute()"
   ]
  },
  {
   "cell_type": "code",
   "execution_count": 77,
   "metadata": {},
   "outputs": [],
   "source": [
    "assert strongest_beer['alcohol_pct'] == 26.0"
   ]
  },
  {
   "cell_type": "markdown",
   "metadata": {},
   "source": [
    "### Exercise 7: **find the 3 most common alcohol percentages**\n",
    "\n",
    "* use `frequencies`\n",
    "* ordering is a very inefficient operation if we are only interested in the top 3\n",
    "* hint: use the `topk` function"
   ]
  },
  {
   "cell_type": "code",
   "execution_count": 78,
   "metadata": {},
   "outputs": [
    {
     "data": {
      "text/plain": [
       "<bound method Bag.map of dask.bag<map-par..., npartitions=4>>"
      ]
     },
     "execution_count": 78,
     "metadata": {},
     "output_type": "execute_result"
    }
   ],
   "source": [
    "beers.map # FIX ME"
   ]
  },
  {
   "cell_type": "code",
   "execution_count": 80,
   "metadata": {},
   "outputs": [],
   "source": [
    "# exercise 7 solution\n",
    "\n",
    "top_3_common_percentages = \\\n",
    "    beers \\\n",
    "        .map(lambda x: x['alcohol_pct']) \\\n",
    "        .frequencies() \\\n",
    "        .topk(3, lambda x: x[1]) \\\n",
    "        .map(lambda x: x[0]) \\\n",
    "        .compute()"
   ]
  },
  {
   "cell_type": "code",
   "execution_count": 81,
   "metadata": {},
   "outputs": [],
   "source": [
    "assert top_3_common_percentages == [8.0, 6.5, 5.0]"
   ]
  },
  {
   "cell_type": "markdown",
   "metadata": {},
   "source": [
    "### Exercise 8: **find the brewery that makes the strongest beer on average**\n",
    "\n",
    "* a nice trick to avoid naming collisions is to wrap functions in an outer function\n",
    "* aggregations by key are done with `foldby`\n",
    "* remember why you need `binop` and `combine` functions!"
   ]
  },
  {
   "cell_type": "code",
   "execution_count": 82,
   "metadata": {},
   "outputs": [],
   "source": [
    "# exercise 8 solution\n",
    "\n",
    "def find_bad_ass_brewery(beers):\n",
    "    \n",
    "    def binop(sum_count, beer):\n",
    "        sum_, count_ = sum_count # unpack tuple\n",
    "        return (sum_ + beer['alcohol_pct'], count_ + 1)\n",
    "    \n",
    "    def combine(sum_count_1, sum_count_2):\n",
    "        sum_1, count_1 = sum_count_1\n",
    "        sum_2, count_2 = sum_count_2\n",
    "        return (sum_1 + sum_2, count_1 + count_2)\n",
    "    \n",
    "    def to_percentage(pair):\n",
    "        brewery, sum_count = pair\n",
    "        sum_, count_ = sum_count\n",
    "        percentage = sum_ / count_\n",
    "        \n",
    "        return brewery, percentage\n",
    "    \n",
    "    return beers \\\n",
    "            .foldby('brewery', binop=binop, initial=(0,0), combine=combine) \\\n",
    "            .map(to_percentage) \\\n",
    "            .topk(1, key=lambda x: x[1]) \\\n",
    "            .compute()"
   ]
  },
  {
   "cell_type": "code",
   "execution_count": 83,
   "metadata": {},
   "outputs": [],
   "source": [
    "bad_ass_brewery, strongest_beer_pct = find_bad_ass_brewery(beers)[0]"
   ]
  },
  {
   "cell_type": "code",
   "execution_count": 84,
   "metadata": {},
   "outputs": [],
   "source": [
    "assert bad_ass_brewery == 'Staminee De Garre (Brouwerij Van Steenberge)'"
   ]
  },
  {
   "cell_type": "markdown",
   "metadata": {},
   "source": [
    "### Exercise 9: **find the top 3 breweries with the most diverse range of beer types**\n",
    "\n",
    "* think of which initial value to provide to the `binop`\n",
    "* your result should also provide the beer types per brewery"
   ]
  },
  {
   "cell_type": "code",
   "execution_count": 85,
   "metadata": {},
   "outputs": [],
   "source": [
    "# exercise 9 solution\n",
    "\n",
    "def find_diverse_breweries(beers, top=3):\n",
    "    \n",
    "    def binop(set_of_types, beer):\n",
    "        if set_of_types:\n",
    "            result = set_of_types\n",
    "        else:\n",
    "            result = set()\n",
    "            \n",
    "        result.add(beer['type'])\n",
    "        return result\n",
    "    \n",
    "    def combine(set_1, set_2):\n",
    "        return set.union(set_1, set_2)\n",
    "    \n",
    "    def count_types(brewery_set_of_types):\n",
    "        brewery, set_of_types = brewery_set_of_types\n",
    "        return len(set_of_types)\n",
    "    \n",
    "    return beers \\\n",
    "            .foldby('brewery', binop=binop, initial=None, combine=combine) \\\n",
    "            .topk(top, key=count_types) \\\n",
    "            .compute()"
   ]
  },
  {
   "cell_type": "code",
   "execution_count": 86,
   "metadata": {},
   "outputs": [],
   "source": [
    "diverse_brewery, beers = find_diverse_breweries(beers, top=1)[0]"
   ]
  },
  {
   "cell_type": "code",
   "execution_count": 87,
   "metadata": {},
   "outputs": [],
   "source": [
    "assert diverse_brewery == 'Brouwerij Huyghe'"
   ]
  },
  {
   "cell_type": "code",
   "execution_count": null,
   "metadata": {},
   "outputs": [],
   "source": []
  }
 ],
 "metadata": {
  "kernelspec": {
   "display_name": "Python [default]",
   "language": "python",
   "name": "python3"
  },
  "language_info": {
   "codemirror_mode": {
    "name": "ipython",
    "version": 3
   },
   "file_extension": ".py",
   "mimetype": "text/x-python",
   "name": "python",
   "nbconvert_exporter": "python",
   "pygments_lexer": "ipython3",
   "version": "3.5.5"
  }
 },
 "nbformat": 4,
 "nbformat_minor": 2
}
