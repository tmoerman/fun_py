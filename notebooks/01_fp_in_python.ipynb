{
 "cells": [
  {
   "cell_type": "markdown",
   "metadata": {},
   "source": [
    "# Functional programming in Python\n",
    "\n",
    "### **Objective**\n",
    "\n",
    "Many parallel or distributed data processing libraries or frameworks adopt concepts from FP. This notebook provides examples and exercises to familiarize students with functional programming (FP) concepts using Python and the \"toolz\" library. This notebook is designed to be self-contained and not rely on externally installed software like Apache Spark in order to make the exercise session as straightforward and reproducible as possible. We encourage the students to complete all exercises during the session or at home if necessary.\n",
    "\n",
    "### **Agenda**\n",
    "* inline functions\n",
    "* compose\n",
    "* partial application of functions\n",
    "* map / filter / reduce / fold\n",
    "* aggregations\n",
    "* parallel stuff -> Dask\n",
    "\n",
    "### **Materials**\n",
    "* install Python / Anaconda\n",
    "* install Jupyter\n",
    "\n",
    "### **Important**\n",
    "Note that the examples here are intended as didactic material to teach FP concepts, the are not necessarily idiomatic Python nor the best approach for every use case."
   ]
  },
  {
   "cell_type": "markdown",
   "metadata": {},
   "source": [
    "* https://github.com/jdorfman/awesome-json-datasets\n",
    "* https://www.kaggle.com/usdod/world-factbook-country-profiles/data"
   ]
  },
  {
   "cell_type": "code",
   "execution_count": 43,
   "metadata": {},
   "outputs": [],
   "source": [
    "import json\n",
    "import toolz as tz\n",
    "import dask.bag as db"
   ]
  },
  {
   "cell_type": "markdown",
   "metadata": {},
   "source": [
    "## 1. Itertoolz\n",
    "\n",
    "Operations on iterables."
   ]
  },
  {
   "cell_type": "code",
   "execution_count": 5,
   "metadata": {},
   "outputs": [
    {
     "data": {
      "text/plain": [
       "\u001b[0;31mInit signature:\u001b[0m \u001b[0mmap\u001b[0m\u001b[0;34m(\u001b[0m\u001b[0mself\u001b[0m\u001b[0;34m,\u001b[0m \u001b[0;34m/\u001b[0m\u001b[0;34m,\u001b[0m \u001b[0;34m*\u001b[0m\u001b[0margs\u001b[0m\u001b[0;34m,\u001b[0m \u001b[0;34m**\u001b[0m\u001b[0mkwargs\u001b[0m\u001b[0;34m)\u001b[0m\u001b[0;34m\u001b[0m\u001b[0m\n",
       "\u001b[0;31mDocstring:\u001b[0m     \n",
       "map(func, *iterables) --> map object\n",
       "\n",
       "Make an iterator that computes the function using arguments from\n",
       "each of the iterables.  Stops when the shortest iterable is exhausted.\n",
       "\u001b[0;31mType:\u001b[0m           type\n"
      ]
     },
     "metadata": {},
     "output_type": "display_data"
    }
   ],
   "source": [
    "map?"
   ]
  },
  {
   "cell_type": "code",
   "execution_count": 6,
   "metadata": {},
   "outputs": [
    {
     "data": {
      "text/plain": [
       "\u001b[0;31mInit signature:\u001b[0m \u001b[0mtz\u001b[0m\u001b[0;34m.\u001b[0m\u001b[0mmap\u001b[0m\u001b[0;34m(\u001b[0m\u001b[0mself\u001b[0m\u001b[0;34m,\u001b[0m \u001b[0;34m/\u001b[0m\u001b[0;34m,\u001b[0m \u001b[0;34m*\u001b[0m\u001b[0margs\u001b[0m\u001b[0;34m,\u001b[0m \u001b[0;34m**\u001b[0m\u001b[0mkwargs\u001b[0m\u001b[0;34m)\u001b[0m\u001b[0;34m\u001b[0m\u001b[0m\n",
       "\u001b[0;31mDocstring:\u001b[0m     \n",
       "map(func, *iterables) --> map object\n",
       "\n",
       "Make an iterator that computes the function using arguments from\n",
       "each of the iterables.  Stops when the shortest iterable is exhausted.\n",
       "\u001b[0;31mType:\u001b[0m           type\n"
      ]
     },
     "metadata": {},
     "output_type": "display_data"
    }
   ],
   "source": [
    "tz.map?"
   ]
  },
  {
   "cell_type": "code",
   "execution_count": 15,
   "metadata": {},
   "outputs": [],
   "source": [
    "mapped = map(lambda x, y: x + y, [0, 1, 2], [4, 5, 6])"
   ]
  },
  {
   "cell_type": "code",
   "execution_count": 16,
   "metadata": {},
   "outputs": [
    {
     "data": {
      "text/plain": [
       "[4, 6, 8]"
      ]
     },
     "execution_count": 16,
     "metadata": {},
     "output_type": "execute_result"
    }
   ],
   "source": [
    "list(mapped)"
   ]
  },
  {
   "cell_type": "markdown",
   "metadata": {},
   "source": [
    "## 2. Dask Bag\n",
    "\n",
    "* unordered \n",
    "* repeats allowed"
   ]
  },
  {
   "cell_type": "code",
   "execution_count": 19,
   "metadata": {},
   "outputs": [],
   "source": [
    "b = db.from_sequence(range(0, 100))"
   ]
  },
  {
   "cell_type": "code",
   "execution_count": 23,
   "metadata": {},
   "outputs": [],
   "source": [
    "sum_by_even = b.foldby(key=lambda x: x % 2 == 0, \n",
    "                       binop=lambda x,y: x+y)"
   ]
  },
  {
   "cell_type": "code",
   "execution_count": 24,
   "metadata": {},
   "outputs": [
    {
     "data": {
      "text/plain": [
       "[(False, 2500), (True, 2450)]"
      ]
     },
     "execution_count": 24,
     "metadata": {},
     "output_type": "execute_result"
    }
   ],
   "source": [
    "list(sum_by_even)"
   ]
  },
  {
   "cell_type": "code",
   "execution_count": 84,
   "metadata": {},
   "outputs": [],
   "source": [
    "prizes = db.from_sequence(json.load(open('../data/nobel_prize.json'))['prizes'])"
   ]
  },
  {
   "cell_type": "code",
   "execution_count": 85,
   "metadata": {},
   "outputs": [
    {
     "data": {
      "text/plain": [
       "585"
      ]
     },
     "execution_count": 85,
     "metadata": {},
     "output_type": "execute_result"
    }
   ],
   "source": [
    "prizes.count().compute()"
   ]
  },
  {
   "cell_type": "code",
   "execution_count": 92,
   "metadata": {},
   "outputs": [
    {
     "data": {
      "text/plain": [
       "({'category': 'physics',\n",
       "  'laureates': [{'firstname': 'Rainer',\n",
       "    'id': '941',\n",
       "    'motivation': '\"for decisive contributions to the LIGO detector and the observation of gravitational waves\"',\n",
       "    'share': '2',\n",
       "    'surname': 'Weiss'},\n",
       "   {'firstname': 'Barry C.',\n",
       "    'id': '942',\n",
       "    'motivation': '\"for decisive contributions to the LIGO detector and the observation of gravitational waves\"',\n",
       "    'share': '4',\n",
       "    'surname': 'Barish'},\n",
       "   {'firstname': 'Kip S.',\n",
       "    'id': '943',\n",
       "    'motivation': '\"for decisive contributions to the LIGO detector and the observation of gravitational waves\"',\n",
       "    'share': '4',\n",
       "    'surname': 'Thorne'}],\n",
       "  'year': '2017'},\n",
       " {'category': 'chemistry',\n",
       "  'laureates': [{'firstname': 'Jacques',\n",
       "    'id': '944',\n",
       "    'motivation': '\"for developing cryo-electron microscopy for the high-resolution structure determination of biomolecules in solution\"',\n",
       "    'share': '3',\n",
       "    'surname': 'Dubochet'},\n",
       "   {'firstname': 'Joachim',\n",
       "    'id': '945',\n",
       "    'motivation': '\"for developing cryo-electron microscopy for the high-resolution structure determination of biomolecules in solution\"',\n",
       "    'share': '3',\n",
       "    'surname': 'Frank'},\n",
       "   {'firstname': 'Richard',\n",
       "    'id': '946',\n",
       "    'motivation': '\"for developing cryo-electron microscopy for the high-resolution structure determination of biomolecules in solution\"',\n",
       "    'share': '3',\n",
       "    'surname': 'Henderson'}],\n",
       "  'year': '2017'},\n",
       " {'category': 'medicine',\n",
       "  'laureates': [{'firstname': 'Jeffrey C.',\n",
       "    'id': '938',\n",
       "    'motivation': '\"for their discoveries of molecular mechanisms controlling the circadian rhythm\"',\n",
       "    'share': '3',\n",
       "    'surname': 'Hall'},\n",
       "   {'firstname': 'Michael',\n",
       "    'id': '939',\n",
       "    'motivation': '\"for their discoveries of molecular mechanisms controlling the circadian rhythm\"',\n",
       "    'share': '3',\n",
       "    'surname': 'Rosbash'},\n",
       "   {'firstname': 'Michael W.',\n",
       "    'id': '940',\n",
       "    'motivation': '\"for their discoveries of molecular mechanisms controlling the circadian rhythm\"',\n",
       "    'share': '3',\n",
       "    'surname': 'Young'}],\n",
       "  'year': '2017'})"
      ]
     },
     "execution_count": 92,
     "metadata": {},
     "output_type": "execute_result"
    }
   ],
   "source": [
    "prizes.take(3)"
   ]
  },
  {
   "cell_type": "code",
   "execution_count": 90,
   "metadata": {},
   "outputs": [
    {
     "data": {
      "text/plain": [
       "[('chemistry', 109),\n",
       " ('literature', 110),\n",
       " ('peace', 98),\n",
       " ('medicine', 108),\n",
       " ('physics', 111),\n",
       " ('economics', 49)]"
      ]
     },
     "execution_count": 90,
     "metadata": {},
     "output_type": "execute_result"
    }
   ],
   "source": [
    "prizes.map(lambda x: x['category']).frequencies().compute()"
   ]
  },
  {
   "cell_type": "code",
   "execution_count": null,
   "metadata": {},
   "outputs": [],
   "source": []
  }
 ],
 "metadata": {
  "kernelspec": {
   "display_name": "Python [default]",
   "language": "python",
   "name": "python3"
  },
  "language_info": {
   "codemirror_mode": {
    "name": "ipython",
    "version": 3
   },
   "file_extension": ".py",
   "mimetype": "text/x-python",
   "name": "python",
   "nbconvert_exporter": "python",
   "pygments_lexer": "ipython3",
   "version": "3.5.5"
  }
 },
 "nbformat": 4,
 "nbformat_minor": 2
}
